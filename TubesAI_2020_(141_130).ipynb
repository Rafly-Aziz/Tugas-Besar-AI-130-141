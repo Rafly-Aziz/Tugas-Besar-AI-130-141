{
  "cells": [
    {
      "cell_type": "markdown",
      "metadata": {
        "id": "view-in-github",
        "colab_type": "text"
      },
      "source": [
        "<a href=\"https://colab.research.google.com/github/Rafly-Aziz/Tugas-Besar-AI-130-141/blob/main/TubesAI_2020_(141_130).ipynb\" target=\"_parent\"><img src=\"https://colab.research.google.com/assets/colab-badge.svg\" alt=\"Open In Colab\"/></a>"
      ]
    },
    {
      "cell_type": "code",
      "execution_count": null,
      "metadata": {
        "colab": {
          "base_uri": "https://localhost:8080/"
        },
        "id": "1Az5c4QvlkG3",
        "outputId": "a308fbed-817f-4aa3-da1b-196a77b421ca"
      },
      "outputs": [
        {
          "name": "stdout",
          "output_type": "stream",
          "text": [
            "--2022-01-13 03:47:09--  https://github.com/ridhayusra/TubesAI/raw/main/Dataset.zip\n",
            "Resolving github.com (github.com)... 140.82.114.4\n",
            "Connecting to github.com (github.com)|140.82.114.4|:443... connected.\n",
            "HTTP request sent, awaiting response... 302 Found\n",
            "Location: https://raw.githubusercontent.com/ridhayusra/TubesAI/main/Dataset.zip [following]\n",
            "--2022-01-13 03:47:09--  https://raw.githubusercontent.com/ridhayusra/TubesAI/main/Dataset.zip\n",
            "Resolving raw.githubusercontent.com (raw.githubusercontent.com)... 185.199.108.133, 185.199.109.133, 185.199.110.133, ...\n",
            "Connecting to raw.githubusercontent.com (raw.githubusercontent.com)|185.199.108.133|:443... connected.\n",
            "HTTP request sent, awaiting response... 200 OK\n",
            "Length: 88276462 (84M) [application/zip]\n",
            "Saving to: ‘/tmp/Dataset.zip’\n",
            "\n",
            "/tmp/Dataset.zip    100%[===================>]  84.19M   216MB/s    in 0.4s    \n",
            "\n",
            "2022-01-13 03:47:10 (216 MB/s) - ‘/tmp/Dataset.zip’ saved [88276462/88276462]\n",
            "\n"
          ]
        }
      ],
      "source": [
        "!wget --no-check-certificate \\\n",
        "    https://github.com/ridhayusra/TubesAI/raw/main/Dataset.zip \\\n",
        "    -O /tmp/Dataset.zip"
      ]
    },
    {
      "cell_type": "code",
      "execution_count": 3,
      "metadata": {
        "colab": {
          "base_uri": "https://localhost:8080/"
        },
        "id": "JMrpW1xVlqHc",
        "outputId": "925df211-387a-4641-9e80-15a8f2aba798"
      },
      "outputs": [
        {
          "output_type": "stream",
          "name": "stdout",
          "text": [
            "Mounted at /content/drive\n"
          ]
        }
      ],
      "source": [
        "from google.colab import drive\n",
        "drive.mount('/content/drive')"
      ]
    },
    {
      "cell_type": "code",
      "execution_count": 4,
      "metadata": {
        "id": "9ZxFbBbGlth2"
      },
      "outputs": [],
      "source": [
        "# Extract file zip dataset\n",
        "\n",
        "import os\n",
        "import zipfile\n",
        "\n",
        "local_zip = '/content/drive/MyDrive/UAS141_130/Dataset.zip'\n",
        "zip_ref = zipfile.ZipFile(local_zip, 'r')\n",
        "zip_ref.extractall('/tmp')\n",
        "zip_ref.close()\n"
      ]
    },
    {
      "cell_type": "code",
      "execution_count": 5,
      "metadata": {
        "id": "JOgwxmnMlzVc"
      },
      "outputs": [],
      "source": [
        "base_dir = '/tmp/Dataset'\n",
        "train_dir = os.path.join(base_dir, 'Train')\n",
        "val_dir = os.path.join(base_dir, 'Validation')\n"
      ]
    },
    {
      "cell_type": "code",
      "execution_count": 6,
      "metadata": {
        "colab": {
          "base_uri": "https://localhost:8080/"
        },
        "id": "ouZdEgghl3hJ",
        "outputId": "8d6cdec0-a48f-4294-c122-e7a9b996b1d4"
      },
      "outputs": [
        {
          "output_type": "stream",
          "name": "stdout",
          "text": [
            "jumlah dataset Training :  250\n",
            "jumlah dataset validasi :  142\n",
            "\n",
            "\n",
            "\n",
            "jumlah train kelas NORMAL :  74\n",
            "jumlah train kelas PNEUMONIA :  74\n",
            "jumlah validasi kelas NORMAL :  20\n",
            "jumlah validasi kelas PNEUMONIA :  20\n",
            "\n",
            "\n",
            "\n",
            "jumlah train kelas Nangka :  51\n",
            "jumlah train kelas Sirih :  51\n",
            "jumlah validasi kelas Nangka :  51\n",
            "jumlah validasi kelas Sirih :  51\n"
          ]
        }
      ],
      "source": [
        "NORMAL_train_path = train_dir + '/NORMAL'\n",
        "PNEUMONIA_train_path = train_dir + '/PNEUMONIA'\n",
        "NORMAL_val_path = val_dir + '/NORMAL'\n",
        "PNEUMONIA_val_path = val_dir + '/PNEUMONIA'\n",
        "\n",
        "Nangka_train_path = train_dir + '/Daun Nangka'\n",
        "Sirih_train_path = train_dir + '/Daun Sirih'\n",
        "Nangka_val_path = val_dir + '/Daun Nangka'\n",
        "Sirih_val_path = val_dir + '/Daun Sirih'\n",
        "\n",
        "\n",
        "\n",
        "NORMAL_len_train = len(os.listdir(NORMAL_train_path))\n",
        "PNEUMONIA_len_train = len(os.listdir(PNEUMONIA_train_path))\n",
        "NORMAL_len_val = len(os.listdir(NORMAL_val_path))\n",
        "PNEUMONIA_len_val = len(os.listdir(PNEUMONIA_val_path))\n",
        "\n",
        "Nangka_len_train = len(os.listdir(Nangka_train_path))\n",
        "Sirih_len_train = len(os.listdir(Sirih_train_path))\n",
        "Nangka_len_val = len(os.listdir(Nangka_val_path))\n",
        "Sirih_len_val = len(os.listdir(Sirih_val_path))\n",
        "\n",
        "print(\"jumlah dataset Training : \", NORMAL_len_train + PNEUMONIA_len_train + Nangka_len_train + Nangka_len_train)\n",
        "print(\"jumlah dataset validasi : \", NORMAL_len_val + PNEUMONIA_len_val + Sirih_len_val + Sirih_len_val)\n",
        "print(\"\\n\\n\")\n",
        "print(\"jumlah train kelas NORMAL : \", NORMAL_len_train)\n",
        "print(\"jumlah train kelas PNEUMONIA : \", PNEUMONIA_len_train)\n",
        "print(\"jumlah validasi kelas NORMAL : \", NORMAL_len_val)\n",
        "print(\"jumlah validasi kelas PNEUMONIA : \", PNEUMONIA_len_val)\n",
        "print(\"\\n\\n\")\n",
        "print(\"jumlah train kelas Nangka : \", Nangka_len_train)\n",
        "print(\"jumlah train kelas Sirih : \", Sirih_len_train)\n",
        "print(\"jumlah validasi kelas Nangka : \", Nangka_len_val)\n",
        "print(\"jumlah validasi kelas Sirih : \", Sirih_len_val)"
      ]
    },
    {
      "cell_type": "code",
      "execution_count": 7,
      "metadata": {
        "id": "FVk8Alhzl7cJ"
      },
      "outputs": [],
      "source": [
        "import tensorflow as tf\n",
        "from tensorflow.keras.optimizers import Adam\n",
        "from tensorflow.keras.preprocessing.image import ImageDataGenerator\n"
      ]
    },
    {
      "cell_type": "code",
      "execution_count": 8,
      "metadata": {
        "colab": {
          "base_uri": "https://localhost:8080/"
        },
        "id": "DQsU9OgVl7gf",
        "outputId": "1f5ec35e-c8ac-460b-b7d8-020a394f1df8"
      },
      "outputs": [
        {
          "output_type": "stream",
          "name": "stdout",
          "text": [
            "Found 250 images belonging to 4 classes.\n",
            "Found 142 images belonging to 4 classes.\n"
          ]
        }
      ],
      "source": [
        "train_datagen = ImageDataGenerator(\n",
        "      rescale=1./255,\n",
        "      rotation_range=40,\n",
        "      width_shift_range=0.2,\n",
        "      height_shift_range=0.2,\n",
        "      shear_range=0.2,\n",
        "      zoom_range=0.2,\n",
        "      horizontal_flip=True,\n",
        "      fill_mode='nearest')\n",
        "\n",
        "test_datagen = ImageDataGenerator(rescale=1./255)\n",
        "\n",
        "train_generator = train_datagen.flow_from_directory(\n",
        "        train_dir,\n",
        "        target_size=(224, 224),\n",
        "        batch_size=20,\n",
        "        class_mode='binary')\n",
        "\n",
        "validation_generator = test_datagen.flow_from_directory(\n",
        "        val_dir,\n",
        "        target_size=(224, 224),\n",
        "        batch_size=20,\n",
        "        class_mode='binary')\n"
      ]
    },
    {
      "cell_type": "code",
      "execution_count": 9,
      "metadata": {
        "id": "9AWznypipf20"
      },
      "outputs": [],
      "source": [
        "'''\n",
        "Import Library yang dibutuhkan\n",
        "'''\n",
        "\n",
        "from tensorflow.keras.models import Sequential\n",
        "from tensorflow.keras.layers import InputLayer, Dense, Flatten,Dropout, BatchNormalization\n",
        "import tensorflow as tf\n",
        "from tensorflow.keras.models import Model\n",
        "from tensorflow.keras.optimizers import Adam\n",
        "from tensorflow.keras.callbacks import EarlyStopping, ModelCheckpoint"
      ]
    },
    {
      "cell_type": "code",
      "execution_count": 10,
      "metadata": {
        "id": "eyV8003Cpkfo"
      },
      "outputs": [],
      "source": [
        "'''\n",
        "definisikan dan setting callback untuk :\n",
        "1. memantau performa model\n",
        "2. melakukan save model terbaik menggunakan model checkpoint\n",
        "3. memberhentikan pelatihan ketika tidak memnuhi syarat dalam parameter earlystopping\n",
        "'''\n",
        "\n",
        "callbacks = EarlyStopping(monitor='val_loss', patience=15, verbose=1, mode='auto')        \n",
        "directory_to_save_best_model_file = '/content/gdrive/MyDrive/Colab Notebooks/TugasBesar/model_drop_batch_weight_from_callback_2.h5'\n",
        "best_model = ModelCheckpoint(directory_to_save_best_model_file, monitor='val_accuracy', verbose = 1, save_best_only = True)"
      ]
    },
    {
      "cell_type": "code",
      "execution_count": 11,
      "metadata": {
        "colab": {
          "base_uri": "https://localhost:8080/"
        },
        "id": "WjLxIkPapm9G",
        "outputId": "366bdb20-ea36-426c-929a-c11b0087d417"
      },
      "outputs": [
        {
          "output_type": "stream",
          "name": "stdout",
          "text": [
            "Downloading data from https://storage.googleapis.com/tensorflow/keras-applications/vgg16/vgg16_weights_tf_dim_ordering_tf_kernels_notop.h5\n",
            "58889256/58889256 [==============================] - 0s 0us/step\n"
          ]
        }
      ],
      "source": [
        "'''\n",
        "definisikan pretrained model yang ingin digunakan\n",
        "'''\n",
        "\n",
        "VGG16_base = tf.keras.applications.VGG16(include_top=False, weights='imagenet', #include_top = false , berarti fully connected layer akan dipidah dari arsitektur\n",
        "                                                 input_tensor=None, input_shape=(224, 224,3))"
      ]
    },
    {
      "cell_type": "code",
      "execution_count": 12,
      "metadata": {
        "id": "tg5a42m7pqDr"
      },
      "outputs": [],
      "source": [
        "'''\n",
        "melakukan setting bahwa model pretrained tidak akan dilatih ulang\n",
        "'''\n",
        "\n",
        "VGG16_base.trainable = False"
      ]
    },
    {
      "cell_type": "code",
      "execution_count": 13,
      "metadata": {
        "colab": {
          "base_uri": "https://localhost:8080/"
        },
        "id": "vAVo1Zb7ptD8",
        "outputId": "6df0c159-6fe9-4e69-cfb5-c24e89e6183c"
      },
      "outputs": [
        {
          "output_type": "stream",
          "name": "stdout",
          "text": [
            "Adding new layers\n",
            "New layers Finishing Added!!!!\n"
          ]
        }
      ],
      "source": [
        "'''\n",
        "mendefinisikan layer pada bagian fully connected layer\n",
        "'''\n",
        "\n",
        "print('Adding new layers')\n",
        "output = VGG16_base.get_layer(index = -1).output  \n",
        "output = Flatten()(output)\n",
        "output = Dense(256,activation = \"relu\")(output)\n",
        "output = BatchNormalization()(output)\n",
        "output = Dropout(0.5)(output)\n",
        "output = Dense(256,activation = \"relu\")(output)\n",
        "output = BatchNormalization()(output)\n",
        "output = Dropout(0.5)(output)\n",
        "output = Dense(1, activation='sigmoid')(output) \n",
        "print('New layers Finishing Added!!!!')"
      ]
    },
    {
      "cell_type": "code",
      "execution_count": 14,
      "metadata": {
        "colab": {
          "base_uri": "https://localhost:8080/"
        },
        "id": "rWXt1WdCpzPV",
        "outputId": "35c36856-ac1f-4d13-c219-a4b66edc4108"
      },
      "outputs": [
        {
          "output_type": "stream",
          "name": "stdout",
          "text": [
            "Model: \"model\"\n",
            "_________________________________________________________________\n",
            " Layer (type)                Output Shape              Param #   \n",
            "=================================================================\n",
            " input_1 (InputLayer)        [(None, 224, 224, 3)]     0         \n",
            "                                                                 \n",
            " block1_conv1 (Conv2D)       (None, 224, 224, 64)      1792      \n",
            "                                                                 \n",
            " block1_conv2 (Conv2D)       (None, 224, 224, 64)      36928     \n",
            "                                                                 \n",
            " block1_pool (MaxPooling2D)  (None, 112, 112, 64)      0         \n",
            "                                                                 \n",
            " block2_conv1 (Conv2D)       (None, 112, 112, 128)     73856     \n",
            "                                                                 \n",
            " block2_conv2 (Conv2D)       (None, 112, 112, 128)     147584    \n",
            "                                                                 \n",
            " block2_pool (MaxPooling2D)  (None, 56, 56, 128)       0         \n",
            "                                                                 \n",
            " block3_conv1 (Conv2D)       (None, 56, 56, 256)       295168    \n",
            "                                                                 \n",
            " block3_conv2 (Conv2D)       (None, 56, 56, 256)       590080    \n",
            "                                                                 \n",
            " block3_conv3 (Conv2D)       (None, 56, 56, 256)       590080    \n",
            "                                                                 \n",
            " block3_pool (MaxPooling2D)  (None, 28, 28, 256)       0         \n",
            "                                                                 \n",
            " block4_conv1 (Conv2D)       (None, 28, 28, 512)       1180160   \n",
            "                                                                 \n",
            " block4_conv2 (Conv2D)       (None, 28, 28, 512)       2359808   \n",
            "                                                                 \n",
            " block4_conv3 (Conv2D)       (None, 28, 28, 512)       2359808   \n",
            "                                                                 \n",
            " block4_pool (MaxPooling2D)  (None, 14, 14, 512)       0         \n",
            "                                                                 \n",
            " block5_conv1 (Conv2D)       (None, 14, 14, 512)       2359808   \n",
            "                                                                 \n",
            " block5_conv2 (Conv2D)       (None, 14, 14, 512)       2359808   \n",
            "                                                                 \n",
            " block5_conv3 (Conv2D)       (None, 14, 14, 512)       2359808   \n",
            "                                                                 \n",
            " block5_pool (MaxPooling2D)  (None, 7, 7, 512)         0         \n",
            "                                                                 \n",
            " flatten (Flatten)           (None, 25088)             0         \n",
            "                                                                 \n",
            " dense (Dense)               (None, 256)               6422784   \n",
            "                                                                 \n",
            " batch_normalization (BatchN  (None, 256)              1024      \n",
            " ormalization)                                                   \n",
            "                                                                 \n",
            " dropout (Dropout)           (None, 256)               0         \n",
            "                                                                 \n",
            " dense_1 (Dense)             (None, 256)               65792     \n",
            "                                                                 \n",
            " batch_normalization_1 (Batc  (None, 256)              1024      \n",
            " hNormalization)                                                 \n",
            "                                                                 \n",
            " dropout_1 (Dropout)         (None, 256)               0         \n",
            "                                                                 \n",
            " dense_2 (Dense)             (None, 1)                 257       \n",
            "                                                                 \n",
            "=================================================================\n",
            "Total params: 21,205,569\n",
            "Trainable params: 6,489,857\n",
            "Non-trainable params: 14,715,712\n",
            "_________________________________________________________________\n"
          ]
        }
      ],
      "source": [
        "VGG16_model = Model(VGG16_base.input, output)\n",
        "\n",
        "VGG16_model.summary()"
      ]
    },
    {
      "cell_type": "code",
      "execution_count": 15,
      "metadata": {
        "id": "uHlXR-s9p29-"
      },
      "outputs": [],
      "source": [
        "VGG16_model.compile(optimizer=tf.keras.optimizers.Adam(learning_rate=0.0001), loss='binary_crossentropy', \n",
        "                        metrics =['accuracy'])"
      ]
    },
    {
      "cell_type": "code",
      "execution_count": null,
      "metadata": {
        "colab": {
          "background_save": true,
          "base_uri": "https://localhost:8080/"
        },
        "id": "flPS5_DLp5Lf",
        "outputId": "a56a4130-a5c4-499a-864f-123b13c64d6e"
      },
      "outputs": [
        {
          "name": "stdout",
          "output_type": "stream",
          "text": [
            "Epoch 1/100\n",
            "7/7 [==============================] - ETA: 0s - loss: 1.0757 - accuracy: 0.5391 \n",
            "Epoch 1: val_accuracy improved from -inf to 0.50000, saving model to /content/gdrive/MyDrive/Colab Notebooks/TugasBesar/model_drop_batch_weight_from_callback_2.h5\n",
            "7/7 [==============================] - 100s 15s/step - loss: 1.0757 - accuracy: 0.5391 - val_loss: 0.6468 - val_accuracy: 0.5000\n",
            "Epoch 2/100\n",
            "7/7 [==============================] - ETA: 0s - loss: 0.6210 - accuracy: 0.6719 \n",
            "Epoch 2: val_accuracy improved from 0.50000 to 0.52500, saving model to /content/gdrive/MyDrive/Colab Notebooks/TugasBesar/model_drop_batch_weight_from_callback_2.h5\n",
            "7/7 [==============================] - 98s 14s/step - loss: 0.6210 - accuracy: 0.6719 - val_loss: 0.6121 - val_accuracy: 0.5250\n",
            "Epoch 3/100\n",
            "7/7 [==============================] - ETA: 0s - loss: 0.3943 - accuracy: 0.8281 \n",
            "Epoch 3: val_accuracy did not improve from 0.52500\n",
            "7/7 [==============================] - 93s 15s/step - loss: 0.3943 - accuracy: 0.8281 - val_loss: 0.5748 - val_accuracy: 0.5250\n",
            "Epoch 4/100\n",
            "7/7 [==============================] - ETA: 0s - loss: 0.3817 - accuracy: 0.8359 \n",
            "Epoch 4: val_accuracy did not improve from 0.52500\n",
            "7/7 [==============================] - 95s 14s/step - loss: 0.3817 - accuracy: 0.8359 - val_loss: 0.5649 - val_accuracy: 0.5250\n",
            "Epoch 5/100\n",
            "7/7 [==============================] - ETA: 0s - loss: 0.3286 - accuracy: 0.8438\n",
            "Epoch 5: val_accuracy improved from 0.52500 to 0.57500, saving model to /content/gdrive/MyDrive/Colab Notebooks/TugasBesar/model_drop_batch_weight_from_callback_2.h5\n",
            "7/7 [==============================] - 96s 14s/step - loss: 0.3286 - accuracy: 0.8438 - val_loss: 0.5428 - val_accuracy: 0.5750\n",
            "Epoch 6/100\n",
            "7/7 [==============================] - ETA: 0s - loss: 0.2792 - accuracy: 0.8516\n",
            "Epoch 6: val_accuracy did not improve from 0.57500\n",
            "7/7 [==============================] - 92s 13s/step - loss: 0.2792 - accuracy: 0.8516 - val_loss: 0.5492 - val_accuracy: 0.5750\n",
            "Epoch 7/100\n",
            "7/7 [==============================] - ETA: 0s - loss: 0.2317 - accuracy: 0.9141\n",
            "Epoch 7: val_accuracy improved from 0.57500 to 0.60000, saving model to /content/gdrive/MyDrive/Colab Notebooks/TugasBesar/model_drop_batch_weight_from_callback_2.h5\n",
            "7/7 [==============================] - 92s 13s/step - loss: 0.2317 - accuracy: 0.9141 - val_loss: 0.5229 - val_accuracy: 0.6000\n",
            "Epoch 8/100\n",
            "7/7 [==============================] - ETA: 0s - loss: 0.2180 - accuracy: 0.9062\n",
            "Epoch 8: val_accuracy did not improve from 0.60000\n",
            "7/7 [==============================] - 94s 14s/step - loss: 0.2180 - accuracy: 0.9062 - val_loss: 0.5173 - val_accuracy: 0.6000\n",
            "Epoch 9/100\n",
            "7/7 [==============================] - ETA: 0s - loss: 0.2995 - accuracy: 0.8594\n",
            "Epoch 9: val_accuracy improved from 0.60000 to 0.65000, saving model to /content/gdrive/MyDrive/Colab Notebooks/TugasBesar/model_drop_batch_weight_from_callback_2.h5\n",
            "7/7 [==============================] - 93s 14s/step - loss: 0.2995 - accuracy: 0.8594 - val_loss: 0.5194 - val_accuracy: 0.6500\n",
            "Epoch 10/100\n",
            "7/7 [==============================] - ETA: 0s - loss: 0.2706 - accuracy: 0.8714 \n",
            "Epoch 10: val_accuracy did not improve from 0.65000\n",
            "7/7 [==============================] - 98s 14s/step - loss: 0.2706 - accuracy: 0.8714 - val_loss: 0.5146 - val_accuracy: 0.6500\n",
            "Epoch 11/100\n",
            "7/7 [==============================] - ETA: 0s - loss: 0.1990 - accuracy: 0.9141 \n",
            "Epoch 11: val_accuracy did not improve from 0.65000\n",
            "7/7 [==============================] - 97s 15s/step - loss: 0.1990 - accuracy: 0.9141 - val_loss: 0.5571 - val_accuracy: 0.6000\n",
            "Epoch 12/100\n",
            "7/7 [==============================] - ETA: 0s - loss: 0.2550 - accuracy: 0.8984 \n",
            "Epoch 12: val_accuracy did not improve from 0.65000\n",
            "7/7 [==============================] - 112s 17s/step - loss: 0.2550 - accuracy: 0.8984 - val_loss: 0.5495 - val_accuracy: 0.6000\n",
            "Epoch 13/100\n",
            "7/7 [==============================] - ETA: 0s - loss: 0.2580 - accuracy: 0.8906 \n",
            "Epoch 13: val_accuracy improved from 0.65000 to 0.67500, saving model to /content/gdrive/MyDrive/Colab Notebooks/TugasBesar/model_drop_batch_weight_from_callback_2.h5\n",
            "7/7 [==============================] - 95s 15s/step - loss: 0.2580 - accuracy: 0.8906 - val_loss: 0.4880 - val_accuracy: 0.6750\n",
            "Epoch 14/100\n",
            "7/7 [==============================] - ETA: 0s - loss: 0.1785 - accuracy: 0.9219\n",
            "Epoch 14: val_accuracy did not improve from 0.67500\n",
            "7/7 [==============================] - 92s 13s/step - loss: 0.1785 - accuracy: 0.9219 - val_loss: 0.4313 - val_accuracy: 0.6750\n",
            "Epoch 15/100\n",
            "7/7 [==============================] - ETA: 0s - loss: 0.2510 - accuracy: 0.8906 \n",
            "Epoch 15: val_accuracy improved from 0.67500 to 0.85000, saving model to /content/gdrive/MyDrive/Colab Notebooks/TugasBesar/model_drop_batch_weight_from_callback_2.h5\n",
            "7/7 [==============================] - 95s 14s/step - loss: 0.2510 - accuracy: 0.8906 - val_loss: 0.3435 - val_accuracy: 0.8500\n",
            "Epoch 16/100\n",
            "7/7 [==============================] - ETA: 0s - loss: 0.2004 - accuracy: 0.9297\n",
            "Epoch 16: val_accuracy improved from 0.85000 to 0.92500, saving model to /content/gdrive/MyDrive/Colab Notebooks/TugasBesar/model_drop_batch_weight_from_callback_2.h5\n",
            "7/7 [==============================] - 93s 13s/step - loss: 0.2004 - accuracy: 0.9297 - val_loss: 0.2846 - val_accuracy: 0.9250\n",
            "Epoch 17/100\n",
            "7/7 [==============================] - ETA: 0s - loss: 0.2169 - accuracy: 0.9062\n",
            "Epoch 17: val_accuracy did not improve from 0.92500\n",
            "7/7 [==============================] - 92s 13s/step - loss: 0.2169 - accuracy: 0.9062 - val_loss: 0.2500 - val_accuracy: 0.9250\n",
            "Epoch 18/100\n",
            "7/7 [==============================] - ETA: 0s - loss: 0.1957 - accuracy: 0.9062 \n",
            "Epoch 18: val_accuracy did not improve from 0.92500\n",
            "7/7 [==============================] - 92s 14s/step - loss: 0.1957 - accuracy: 0.9062 - val_loss: 0.2411 - val_accuracy: 0.9250\n",
            "Epoch 19/100\n",
            "7/7 [==============================] - ETA: 0s - loss: 0.1237 - accuracy: 0.9531\n",
            "Epoch 19: val_accuracy did not improve from 0.92500\n",
            "7/7 [==============================] - 92s 13s/step - loss: 0.1237 - accuracy: 0.9531 - val_loss: 0.2456 - val_accuracy: 0.9250\n",
            "Epoch 20/100\n",
            "7/7 [==============================] - ETA: 0s - loss: 0.1925 - accuracy: 0.9297\n",
            "Epoch 20: val_accuracy improved from 0.92500 to 0.95000, saving model to /content/gdrive/MyDrive/Colab Notebooks/TugasBesar/model_drop_batch_weight_from_callback_2.h5\n",
            "7/7 [==============================] - 112s 17s/step - loss: 0.1925 - accuracy: 0.9297 - val_loss: 0.2199 - val_accuracy: 0.9500\n",
            "Epoch 21/100\n",
            "7/7 [==============================] - ETA: 0s - loss: 0.2023 - accuracy: 0.9141 \n",
            "Epoch 21: val_accuracy did not improve from 0.95000\n",
            "7/7 [==============================] - 93s 13s/step - loss: 0.2023 - accuracy: 0.9141 - val_loss: 0.2075 - val_accuracy: 0.9500\n",
            "Epoch 22/100\n",
            "7/7 [==============================] - ETA: 0s - loss: 0.1442 - accuracy: 0.9297 \n",
            "Epoch 22: val_accuracy did not improve from 0.95000\n",
            "7/7 [==============================] - 120s 18s/step - loss: 0.1442 - accuracy: 0.9297 - val_loss: 0.1897 - val_accuracy: 0.9500\n",
            "Epoch 23/100\n",
            "7/7 [==============================] - ETA: 0s - loss: 0.2529 - accuracy: 0.8906 \n",
            "Epoch 23: val_accuracy did not improve from 0.95000\n",
            "7/7 [==============================] - 98s 14s/step - loss: 0.2529 - accuracy: 0.8906 - val_loss: 0.1706 - val_accuracy: 0.9500\n",
            "Epoch 24/100\n",
            "7/7 [==============================] - ETA: 0s - loss: 0.1409 - accuracy: 0.9609 \n",
            "Epoch 24: val_accuracy did not improve from 0.95000\n",
            "7/7 [==============================] - 103s 15s/step - loss: 0.1409 - accuracy: 0.9609 - val_loss: 0.1589 - val_accuracy: 0.9500\n",
            "Epoch 25/100\n",
            "7/7 [==============================] - ETA: 0s - loss: 0.2955 - accuracy: 0.9062 \n",
            "Epoch 25: val_accuracy did not improve from 0.95000\n",
            "7/7 [==============================] - 113s 18s/step - loss: 0.2955 - accuracy: 0.9062 - val_loss: 0.1627 - val_accuracy: 0.9500\n",
            "Epoch 26/100\n",
            "7/7 [==============================] - ETA: 0s - loss: 0.1158 - accuracy: 0.9609 \n",
            "Epoch 26: val_accuracy did not improve from 0.95000\n",
            "7/7 [==============================] - 97s 14s/step - loss: 0.1158 - accuracy: 0.9609 - val_loss: 0.1745 - val_accuracy: 0.9500\n",
            "Epoch 27/100\n",
            "7/7 [==============================] - ETA: 0s - loss: 0.1374 - accuracy: 0.9375\n",
            "Epoch 27: val_accuracy did not improve from 0.95000\n",
            "7/7 [==============================] - 92s 13s/step - loss: 0.1374 - accuracy: 0.9375 - val_loss: 0.2010 - val_accuracy: 0.9500\n",
            "Epoch 28/100\n",
            "7/7 [==============================] - ETA: 0s - loss: 0.1774 - accuracy: 0.9286 \n",
            "Epoch 28: val_accuracy did not improve from 0.95000\n",
            "7/7 [==============================] - 101s 15s/step - loss: 0.1774 - accuracy: 0.9286 - val_loss: 0.1924 - val_accuracy: 0.9500\n",
            "Epoch 29/100\n",
            "7/7 [==============================] - ETA: 0s - loss: 0.1730 - accuracy: 0.9219 \n",
            "Epoch 29: val_accuracy did not improve from 0.95000\n",
            "7/7 [==============================] - 113s 18s/step - loss: 0.1730 - accuracy: 0.9219 - val_loss: 0.1990 - val_accuracy: 0.9500\n",
            "Epoch 30/100\n",
            "7/7 [==============================] - ETA: 0s - loss: 0.2063 - accuracy: 0.9141\n",
            "Epoch 30: val_accuracy did not improve from 0.95000\n",
            "7/7 [==============================] - 112s 17s/step - loss: 0.2063 - accuracy: 0.9141 - val_loss: 0.2021 - val_accuracy: 0.9500\n",
            "Epoch 31/100\n",
            "7/7 [==============================] - ETA: 0s - loss: 0.1240 - accuracy: 0.9766\n",
            "Epoch 31: val_accuracy did not improve from 0.95000\n",
            "7/7 [==============================] - 93s 13s/step - loss: 0.1240 - accuracy: 0.9766 - val_loss: 0.1938 - val_accuracy: 0.9500\n",
            "Epoch 32/100\n",
            "7/7 [==============================] - ETA: 0s - loss: 0.1874 - accuracy: 0.9297 \n",
            "Epoch 32: val_accuracy did not improve from 0.95000\n",
            "7/7 [==============================] - 92s 13s/step - loss: 0.1874 - accuracy: 0.9297 - val_loss: 0.2001 - val_accuracy: 0.9500\n",
            "Epoch 33/100\n",
            "7/7 [==============================] - ETA: 0s - loss: 0.1642 - accuracy: 0.9453 \n",
            "Epoch 33: val_accuracy did not improve from 0.95000\n",
            "7/7 [==============================] - 95s 15s/step - loss: 0.1642 - accuracy: 0.9453 - val_loss: 0.1933 - val_accuracy: 0.9500\n",
            "Epoch 34/100\n",
            "7/7 [==============================] - ETA: 0s - loss: 0.1829 - accuracy: 0.9286 \n",
            "Epoch 34: val_accuracy did not improve from 0.95000\n",
            "7/7 [==============================] - 98s 14s/step - loss: 0.1829 - accuracy: 0.9286 - val_loss: 0.2205 - val_accuracy: 0.9250\n",
            "Epoch 35/100\n",
            "7/7 [==============================] - ETA: 0s - loss: 0.1721 - accuracy: 0.9429 \n",
            "Epoch 35: val_accuracy did not improve from 0.95000\n",
            "7/7 [==============================] - 101s 15s/step - loss: 0.1721 - accuracy: 0.9429 - val_loss: 0.2124 - val_accuracy: 0.9250\n",
            "Epoch 36/100\n",
            "7/7 [==============================] - ETA: 0s - loss: 0.1933 - accuracy: 0.9062\n",
            "Epoch 36: val_accuracy did not improve from 0.95000\n",
            "7/7 [==============================] - 92s 13s/step - loss: 0.1933 - accuracy: 0.9062 - val_loss: 0.1692 - val_accuracy: 0.9500\n",
            "Epoch 37/100\n",
            "7/7 [==============================] - ETA: 0s - loss: 0.1740 - accuracy: 0.9143 \n",
            "Epoch 37: val_accuracy did not improve from 0.95000\n",
            "7/7 [==============================] - 98s 14s/step - loss: 0.1740 - accuracy: 0.9143 - val_loss: 0.1558 - val_accuracy: 0.9500\n",
            "Epoch 38/100\n",
            "7/7 [==============================] - ETA: 0s - loss: 0.1023 - accuracy: 0.9643 \n",
            "Epoch 38: val_accuracy did not improve from 0.95000\n",
            "7/7 [==============================] - 100s 15s/step - loss: 0.1023 - accuracy: 0.9643 - val_loss: 0.1494 - val_accuracy: 0.9500\n",
            "Epoch 39/100\n",
            "7/7 [==============================] - ETA: 0s - loss: 0.1642 - accuracy: 0.9531 \n",
            "Epoch 39: val_accuracy did not improve from 0.95000\n",
            "7/7 [==============================] - 92s 14s/step - loss: 0.1642 - accuracy: 0.9531 - val_loss: 0.1276 - val_accuracy: 0.9500\n",
            "Epoch 40/100\n",
            "7/7 [==============================] - ETA: 0s - loss: 0.1212 - accuracy: 0.9500 \n",
            "Epoch 40: val_accuracy did not improve from 0.95000\n",
            "7/7 [==============================] - 100s 15s/step - loss: 0.1212 - accuracy: 0.9500 - val_loss: 0.1192 - val_accuracy: 0.9500\n",
            "Epoch 41/100\n",
            "7/7 [==============================] - ETA: 0s - loss: 0.1148 - accuracy: 0.9609 \n",
            "Epoch 41: val_accuracy did not improve from 0.95000\n",
            "7/7 [==============================] - 92s 13s/step - loss: 0.1148 - accuracy: 0.9609 - val_loss: 0.1148 - val_accuracy: 0.9500\n",
            "Epoch 42/100\n",
            "7/7 [==============================] - ETA: 0s - loss: 0.1334 - accuracy: 0.9375\n",
            "Epoch 42: val_accuracy did not improve from 0.95000\n",
            "7/7 [==============================] - 92s 13s/step - loss: 0.1334 - accuracy: 0.9375 - val_loss: 0.1192 - val_accuracy: 0.9500\n",
            "Epoch 43/100\n",
            "7/7 [==============================] - ETA: 0s - loss: 0.1350 - accuracy: 0.9429 \n",
            "Epoch 43: val_accuracy did not improve from 0.95000\n",
            "7/7 [==============================] - 98s 14s/step - loss: 0.1350 - accuracy: 0.9429 - val_loss: 0.1213 - val_accuracy: 0.9500\n",
            "Epoch 44/100\n",
            "7/7 [==============================] - ETA: 0s - loss: 0.1147 - accuracy: 0.9453\n",
            "Epoch 44: val_accuracy did not improve from 0.95000\n",
            "7/7 [==============================] - 112s 17s/step - loss: 0.1147 - accuracy: 0.9453 - val_loss: 0.0981 - val_accuracy: 0.9500\n",
            "Epoch 45/100\n",
            "7/7 [==============================] - ETA: 0s - loss: 0.1205 - accuracy: 0.9531\n",
            "Epoch 45: val_accuracy did not improve from 0.95000\n",
            "7/7 [==============================] - 92s 13s/step - loss: 0.1205 - accuracy: 0.9531 - val_loss: 0.0733 - val_accuracy: 0.9500\n",
            "Epoch 46/100\n",
            "7/7 [==============================] - ETA: 0s - loss: 0.0997 - accuracy: 0.9766 \n",
            "Epoch 46: val_accuracy improved from 0.95000 to 0.97500, saving model to /content/gdrive/MyDrive/Colab Notebooks/TugasBesar/model_drop_batch_weight_from_callback_2.h5\n",
            "7/7 [==============================] - 93s 13s/step - loss: 0.0997 - accuracy: 0.9766 - val_loss: 0.0553 - val_accuracy: 0.9750\n",
            "Epoch 47/100\n",
            "7/7 [==============================] - ETA: 0s - loss: 0.1966 - accuracy: 0.9219\n",
            "Epoch 47: val_accuracy improved from 0.97500 to 1.00000, saving model to /content/gdrive/MyDrive/Colab Notebooks/TugasBesar/model_drop_batch_weight_from_callback_2.h5\n",
            "7/7 [==============================] - 115s 17s/step - loss: 0.1966 - accuracy: 0.9219 - val_loss: 0.0483 - val_accuracy: 1.0000\n",
            "Epoch 48/100\n",
            "7/7 [==============================] - ETA: 0s - loss: 0.2521 - accuracy: 0.9141 \n",
            "Epoch 48: val_accuracy did not improve from 1.00000\n",
            "7/7 [==============================] - 116s 17s/step - loss: 0.2521 - accuracy: 0.9141 - val_loss: 0.0475 - val_accuracy: 1.0000\n",
            "Epoch 49/100\n",
            "7/7 [==============================] - ETA: 0s - loss: 0.1249 - accuracy: 0.9286 \n",
            "Epoch 49: val_accuracy did not improve from 1.00000\n",
            "7/7 [==============================] - 101s 15s/step - loss: 0.1249 - accuracy: 0.9286 - val_loss: 0.0484 - val_accuracy: 1.0000\n",
            "Epoch 50/100\n",
            "7/7 [==============================] - ETA: 0s - loss: 0.1117 - accuracy: 0.9531\n",
            "Epoch 50: val_accuracy did not improve from 1.00000\n",
            "7/7 [==============================] - 92s 14s/step - loss: 0.1117 - accuracy: 0.9531 - val_loss: 0.0433 - val_accuracy: 1.0000\n",
            "Epoch 51/100\n",
            "7/7 [==============================] - ETA: 0s - loss: 0.1666 - accuracy: 0.9214 \n",
            "Epoch 51: val_accuracy did not improve from 1.00000\n",
            "7/7 [==============================] - 100s 15s/step - loss: 0.1666 - accuracy: 0.9214 - val_loss: 0.0447 - val_accuracy: 0.9750\n",
            "Epoch 52/100\n",
            "7/7 [==============================] - ETA: 0s - loss: 0.1530 - accuracy: 0.9453\n",
            "Epoch 52: val_accuracy did not improve from 1.00000\n",
            "7/7 [==============================] - 112s 17s/step - loss: 0.1530 - accuracy: 0.9453 - val_loss: 0.0592 - val_accuracy: 0.9500\n",
            "Epoch 53/100\n",
            "7/7 [==============================] - ETA: 0s - loss: 0.1901 - accuracy: 0.9214 \n",
            "Epoch 53: val_accuracy did not improve from 1.00000\n",
            "7/7 [==============================] - 101s 15s/step - loss: 0.1901 - accuracy: 0.9214 - val_loss: 0.0798 - val_accuracy: 0.9500\n",
            "Epoch 54/100\n",
            "7/7 [==============================] - ETA: 0s - loss: 0.2030 - accuracy: 0.9141\n",
            "Epoch 54: val_accuracy did not improve from 1.00000\n",
            "7/7 [==============================] - 92s 13s/step - loss: 0.2030 - accuracy: 0.9141 - val_loss: 0.0950 - val_accuracy: 0.9500\n",
            "Epoch 55/100\n",
            "7/7 [==============================] - ETA: 0s - loss: 0.2166 - accuracy: 0.9297 \n",
            "Epoch 55: val_accuracy did not improve from 1.00000\n",
            "7/7 [==============================] - 114s 17s/step - loss: 0.2166 - accuracy: 0.9297 - val_loss: 0.0807 - val_accuracy: 0.9500\n",
            "Epoch 56/100\n",
            "7/7 [==============================] - ETA: 0s - loss: 0.1225 - accuracy: 0.9531 \n",
            "Epoch 56: val_accuracy did not improve from 1.00000\n",
            "7/7 [==============================] - 112s 18s/step - loss: 0.1225 - accuracy: 0.9531 - val_loss: 0.0860 - val_accuracy: 0.9500\n",
            "Epoch 57/100\n",
            "7/7 [==============================] - ETA: 0s - loss: 0.1250 - accuracy: 0.9609 \n",
            "Epoch 57: val_accuracy did not improve from 1.00000\n",
            "7/7 [==============================] - 114s 18s/step - loss: 0.1250 - accuracy: 0.9609 - val_loss: 0.0902 - val_accuracy: 0.9500\n",
            "Epoch 58/100\n",
            "7/7 [==============================] - ETA: 0s - loss: 0.1434 - accuracy: 0.9531\n",
            "Epoch 58: val_accuracy did not improve from 1.00000\n",
            "7/7 [==============================] - 92s 13s/step - loss: 0.1434 - accuracy: 0.9531 - val_loss: 0.0810 - val_accuracy: 0.9500\n",
            "Epoch 59/100\n",
            "7/7 [==============================] - ETA: 0s - loss: 0.1618 - accuracy: 0.9375\n",
            "Epoch 59: val_accuracy did not improve from 1.00000\n",
            "7/7 [==============================] - 95s 14s/step - loss: 0.1618 - accuracy: 0.9375 - val_loss: 0.0788 - val_accuracy: 0.9500\n",
            "Epoch 60/100\n",
            "7/7 [==============================] - ETA: 0s - loss: 0.0733 - accuracy: 0.9766 \n",
            "Epoch 60: val_accuracy did not improve from 1.00000\n",
            "7/7 [==============================] - 92s 13s/step - loss: 0.0733 - accuracy: 0.9766 - val_loss: 0.0848 - val_accuracy: 0.9500\n",
            "Epoch 61/100\n",
            "7/7 [==============================] - ETA: 0s - loss: 0.1116 - accuracy: 0.9531\n",
            "Epoch 61: val_accuracy did not improve from 1.00000\n",
            "7/7 [==============================] - 95s 14s/step - loss: 0.1116 - accuracy: 0.9531 - val_loss: 0.0907 - val_accuracy: 0.9500\n",
            "Epoch 62/100\n",
            "7/7 [==============================] - ETA: 0s - loss: 0.1130 - accuracy: 0.9429 \n",
            "Epoch 62: val_accuracy did not improve from 1.00000\n",
            "7/7 [==============================] - 99s 14s/step - loss: 0.1130 - accuracy: 0.9429 - val_loss: 0.0859 - val_accuracy: 0.9500\n",
            "Epoch 63/100\n",
            "7/7 [==============================] - ETA: 0s - loss: 0.1393 - accuracy: 0.9141 \n",
            "Epoch 63: val_accuracy did not improve from 1.00000\n",
            "7/7 [==============================] - 94s 14s/step - loss: 0.1393 - accuracy: 0.9141 - val_loss: 0.0662 - val_accuracy: 1.0000\n",
            "Epoch 64/100\n",
            "7/7 [==============================] - ETA: 0s - loss: 0.1060 - accuracy: 0.9609\n",
            "Epoch 64: val_accuracy did not improve from 1.00000\n",
            "7/7 [==============================] - 91s 13s/step - loss: 0.1060 - accuracy: 0.9609 - val_loss: 0.0829 - val_accuracy: 0.9750\n",
            "Epoch 65/100\n",
            "7/7 [==============================] - ETA: 0s - loss: 0.0920 - accuracy: 0.9688 \n",
            "Epoch 65: val_accuracy did not improve from 1.00000\n",
            "7/7 [==============================] - 93s 15s/step - loss: 0.0920 - accuracy: 0.9688 - val_loss: 0.0945 - val_accuracy: 0.9750\n",
            "Epoch 65: early stopping\n"
          ]
        }
      ],
      "source": [
        "history = VGG16_model.fit(\n",
        "      train_generator,\n",
        "      steps_per_epoch=7,  # images = batch_size * steps\n",
        "      epochs=100,\n",
        "      validation_data=validation_generator,\n",
        "      validation_steps=2,  #  images = batch_size * steps\n",
        "      callbacks = [callbacks, best_model])"
      ]
    },
    {
      "cell_type": "code",
      "execution_count": null,
      "metadata": {
        "colab": {
          "background_save": true
        },
        "id": "dQXMp4HQp58k",
        "outputId": "3b139c41-cd46-4542-c3f8-ce1f83f6bbe9"
      },
      "outputs": [
        {
          "data": {
            "image/png": "[encoded data removed]",
            "text/plain": [
              "<Figure size 432x288 with 1 Axes>"
            ]
          },
          "metadata": {},
          "output_type": "display_data"
        },
        {
          "data": {
            "image/png": "[encoded data removed]",
            "text/plain": [
              "<Figure size 432x288 with 1 Axes>"
            ]
          },
          "metadata": {},
          "output_type": "display_data"
        }
      ],
      "source": [
        "import matplotlib.pyplot as plt\n",
        "acc = history.history['accuracy']\n",
        "val_acc = history.history['val_accuracy']\n",
        "loss = history.history['loss']\n",
        "val_loss = history.history['val_loss']\n",
        "\n",
        "epochs = range(len(acc))\n",
        "\n",
        "plt.plot(epochs, acc, 'bo', label='Training accuracy')\n",
        "plt.plot(epochs, val_acc, 'b', label='Validation accuracy')\n",
        "plt.title('Training and validation accuracy')\n",
        "\n",
        "plt.figure()\n",
        "\n",
        "plt.plot(epochs, loss, 'bo', label='Training Loss')\n",
        "plt.plot(epochs, val_loss, 'b', label='Validation Loss')\n",
        "plt.title('Training and validation loss')\n",
        "plt.legend()\n",
        "\n",
        "plt.show()"
      ]
    },
    {
      "cell_type": "code",
      "execution_count": null,
      "metadata": {
        "colab": {
          "background_save": true
        },
        "id": "4QRrasKwqDHp"
      },
      "outputs": [],
      "source": [
        "# import some of library that we need to look the confusion matrix, recall, f1_score, and accuracy score to look how much your model is well\n",
        "import numpy as np \n",
        "from keras.preprocessing.image import ImageDataGenerator\n",
        "import matplotlib.pyplot as plt\n",
        "from sklearn.metrics import f1_score, recall_score, accuracy_score\n",
        "from sklearn.metrics import precision_score, confusion_matrix, classification_report\n",
        "from sklearn import metrics\n",
        "\n",
        "import seaborn as sns\n",
        "sns.set(style='whitegrid')"
      ]
    },
    {
      "cell_type": "code",
      "execution_count": null,
      "metadata": {
        "colab": {
          "background_save": true
        },
        "id": "SaqU0PjMJKe_"
      },
      "outputs": [],
      "source": [
        "# loading model to evaluate more depth\n",
        "from keras.models import load_model\n",
        "model_path =  '/content/gdrive/MyDrive/Colab Notebooks/TugasBesar/model_drop_batch_weight_from_callback_2.h5'\n",
        "model = load_model(model_path)"
      ]
    },
    {
      "cell_type": "code",
      "execution_count": null,
      "metadata": {
        "colab": {
          "background_save": true
        },
        "id": "HG0wzGrvJN1_",
        "outputId": "af8b0457-c2a1-47d5-cd77-6e3809aca832"
      },
      "outputs": [
        {
          "name": "stdout",
          "output_type": "stream",
          "text": [
            "Found 40 images belonging to 2 classes.\n"
          ]
        },
        {
          "name": "stderr",
          "output_type": "stream",
          "text": [
            "/usr/local/lib/python3.7/dist-packages/ipykernel_launcher.py:26: UserWarning: `Model.predict_generator` is deprecated and will be removed in a future version. Please use `Model.predict`, which supports generators.\n"
          ]
        },
        {
          "name": "stdout",
          "output_type": "stream",
          "text": [
            "Accuracy  : 1.0\n",
            "Precision : 1.0\n",
            "f1Score : 1.0\n",
            "[[20  0]\n",
            " [ 0 20]]\n"
          ]
        },
        {
          "data": {
            "image/png": "[encoded data removed]",
            "text/plain": [
              "<Figure size 1440x1440 with 2 Axes>"
            ]
          },
          "metadata": {},
          "output_type": "display_data"
        }
      ],
      "source": [
        "def my_metrics(y_true, y_pred):\n",
        "    accuracy=accuracy_score(y_true, y_pred)\n",
        "    precision=precision_score(y_true, y_pred,average='weighted')\n",
        "    f1Score=f1_score(y_true, y_pred, average='weighted') \n",
        "    print(\"Accuracy  : {}\".format(accuracy))\n",
        "    print(\"Precision : {}\".format(precision))\n",
        "    print(\"f1Score : {}\".format(f1Score))\n",
        "    cm=confusion_matrix(y_true, y_pred)\n",
        "    print(cm)\n",
        "    return accuracy, precision, f1Score\n",
        "\n",
        "height=224; width=224\n",
        "batch_size=20\n",
        "\n",
        "test_datagen = ImageDataGenerator(rescale=1./255)\n",
        "\n",
        "TESTING_DIR = val_dir\n",
        "\n",
        "test_generator = test_datagen.flow_from_directory(TESTING_DIR,\n",
        "                                                  batch_size=batch_size,                                                             \n",
        "                                                  target_size=(height, width),\n",
        "                                                  class_mode= None,\n",
        "                                                  shuffle=False\n",
        "                                                  )\n",
        "\n",
        "predictions = model.predict_generator(generator=test_generator)\n",
        "yPredictions = predictions > 0.5\n",
        "true_classes = test_generator.classes\n",
        "class_names = test_generator.class_indices\n",
        "Cmatrix_test = confusion_matrix(true_classes, yPredictions)\n",
        "\n",
        "testAcc,testPrec, testFScore = my_metrics(true_classes, yPredictions)\n",
        "\n",
        "plt.figure(figsize=(20,20))\n",
        "ax= plt.subplot()\n",
        "data = np.asarray(Cmatrix_test).reshape(2,2)\n",
        "sns.heatmap(data,annot=True, fmt='',ax=ax, cmap=plt.cm.Reds)\n",
        "ax.set_xlabel('Predicted labels')\n",
        "ax.set_ylabel('True labels') \n",
        "ax.set_title('Confusion Matrix')\n",
        "ax.xaxis.set_ticklabels(class_names)   \n",
        "ax.yaxis.set_ticklabels(class_names)\n",
        "plt.title('Confusion Matrix Test',fontsize=14)\n",
        "plt.show()"
      ]
    },
    {
      "cell_type": "code",
      "execution_count": null,
      "metadata": {
        "colab": {
          "background_save": true
        },
        "id": "oeKBNGIDJUOe",
        "outputId": "4869a439-4810-4587-fdfe-12269c895f23"
      },
      "outputs": [
        {
          "name": "stdout",
          "output_type": "stream",
          "text": [
            "              precision    recall  f1-score   support\n",
            "\n",
            "      NORMAL       1.00      1.00      1.00        20\n",
            "   PNEUMONIA       1.00      1.00      1.00        20\n",
            "\n",
            "    accuracy                           1.00        40\n",
            "   macro avg       1.00      1.00      1.00        40\n",
            "weighted avg       1.00      1.00      1.00        40\n",
            "\n"
          ]
        }
      ],
      "source": [
        "from sklearn.metrics import classification_report\n",
        "print(classification_report(true_classes, yPredictions, target_names=class_names))"
      ]
    }
  ],
  "metadata": {
    "colab": {
      "provenance": [],
      "include_colab_link": true
    },
    "kernelspec": {
      "display_name": "Python 3",
      "name": "python3"
    },
    "language_info": {
      "name": "python"
    }
  },
  "nbformat": 4,
  "nbformat_minor": 0
}
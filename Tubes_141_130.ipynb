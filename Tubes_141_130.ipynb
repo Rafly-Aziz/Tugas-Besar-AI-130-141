{
  "nbformat": 4,
  "nbformat_minor": 0,
  "metadata": {
    "colab": {
      "provenance": [],
      "mount_file_id": "1StdNZcyu7Ss3eE9Rdxs5sG8Em4axybHj",
      "authorship_tag": "ABX9TyP5L4rrQA8mrtmDC0QQlVpl",
      "include_colab_link": true
    },
    "kernelspec": {
      "name": "python3",
      "display_name": "Python 3"
    },
    "language_info": {
      "name": "python"
    }
  },
  "cells": [
    {
      "cell_type": "markdown",
      "metadata": {
        "id": "view-in-github",
        "colab_type": "text"
      },
      "source": [
        "<a href=\"https://colab.research.google.com/github/Rafly-Aziz/Tugas-Besar-AI-130-141/blob/main/Tubes_141_130.ipynb\" target=\"_parent\"><img src=\"https://colab.research.google.com/assets/colab-badge.svg\" alt=\"Open In Colab\"/></a>"
      ]
    },
    {
      "cell_type": "code",
      "source": [
        "\n",
        "\n",
        "##                                  ===============       بِسْمِ اللَّهِ الرَّحْمَنِ الرَّحِيْم          =====================\n",
        "\n",
        "# ('-----------------------------------------')\n",
        "# ('             Project Title               ')\n",
        "  ('     Collect Dataset Herbal Leaves       ')\n",
        "# ('-----------------------------------------')\n",
        "# ('---------------------------------------------------------------------------------------------------------')\n",
        "# ('                                         Description                                                     ')\n",
        "  ('    1.  Project ini dilakukan dengan tujuan memenuhi tugas Beasar mata kuliah Kecerdasan Buatan I.       ')\n",
        "  ('        Dalam project ini kami mngumpulkan dua label  daun yaitu, daun Pandan dan daun lidah buaya.      ')\n",
        "  ('    2.  Dari label yang kami kumpulkan menghasilkan 100 foto yang ada dalam folder Dataset.zip .         ')\n",
        "  ('        Tiap label terdiri atas 50 foto dengan dimensi yang telah ditentukan yaitu 1600 x 1200 pixel.    ')\n",
        "  ('        Pengambilan gambar kami lakukan dari berbagai sisi daun yang kami kumpulkan agar menghasilkan    ')\n",
        "  ('        gambar yang bervariasi.                                                                          ')\n",
        "  ('    3.  Proses pengambilan gambar kami lakukan disalah satu kos anggota kelompok.                        ')\n",
        "# ('---------------------------------------------------------------------------------------------------------')\n",
        "# ('---------------------------------------------------------------------------------------------------------------------------')\n",
        "# ('                                             Overview Dataset                                                              ')\n",
        "  ('  Overview dataset kami upload dalam bentuk jpg yang terdiri atas 50 gambar daun pandan dan 50 gambar daun lidah buaya.    ')\n",
        "# ('---------------------------------------------------------------------------------------------------------------------------')\n",
        "# ('-----------------------------------------------------------------------------------------------')\n",
        "# ('                                             Authors                                           ')\n",
        "  ('           Nama Anggota :                                                                      ')\n",
        "  ('                        1.\tMuhammad Rafsanjani Aziz     202010370311141                       ')\n",
        "  ('                        2.\tMiko Affan Faiza             202010370311130                       ')\n",
        "  ('                                                                                               ')\n",
        "# ('-----------------------------------------------------------------------------------------------')\n"
      ],
      "metadata": {
        "id": "CHKCsyrto0em"
      },
      "execution_count": null,
      "outputs": []
    },
    {
      "cell_type": "code",
      "execution_count": 3,
      "metadata": {
        "colab": {
          "base_uri": "https://localhost:8080/"
        },
        "id": "1VZ5FLnj5JDW",
        "outputId": "da044d1b-8f9f-4eea-d7c3-3b9d330344e3"
      },
      "outputs": [
        {
          "output_type": "stream",
          "name": "stdout",
          "text": [
            "Drive already mounted at /content/drive; to attempt to forcibly remount, call drive.mount(\"/content/drive\", force_remount=True).\n"
          ]
        }
      ],
      "source": [
        "from google.colab import drive\n",
        "drive.mount('/content/drive')"
      ]
    },
    {
      "cell_type": "code",
      "source": [
        "# Extract file zip dataset\n",
        "\n",
        "import os\n",
        "import zipfile\n",
        "\n",
        "local_zip = '/content/drive/MyDrive/UAS/Dataset.zip'\n",
        "zip_ref = zipfile.ZipFile(local_zip, 'r')\n",
        "zip_ref.extractall('/tmp')\n",
        "zip_ref.close()\n"
      ],
      "metadata": {
        "id": "74irSfYm5NUC"
      },
      "execution_count": 4,
      "outputs": []
    },
    {
      "cell_type": "code",
      "source": [
        "base_dir = '/tmp/Dataset'\n",
        "train_dir = os.path.join(base_dir, 'Train')\n",
        "val_dir = os.path.join(base_dir, 'Validation')\n"
      ],
      "metadata": {
        "id": "-TscOvAY5Phn"
      },
      "execution_count": 5,
      "outputs": []
    },
    {
      "cell_type": "code",
      "source": [
        "NORMAL_train_path = train_dir + '/NORMAL'\n",
        "PNEUMONIA_train_path = train_dir + '/PNEUMONIA'\n",
        "NORMAL_val_path = val_dir + '/NORMAL'\n",
        "PNEUMONIA_val_path = val_dir + '/PNEUMONIA'\n",
        "\n",
        "\n",
        "NORMAL_len_train = len(os.listdir(NORMAL_train_path))\n",
        "PNEUMONIA_len_train = len(os.listdir(PNEUMONIA_train_path))\n",
        "NORMAL_len_val = len(os.listdir(NORMAL_val_path))\n",
        "PNEUMONIA_len_val = len(os.listdir(PNEUMONIA_val_path))\n",
        "\n",
        "print(\"jumlah dataset Training : \", NORMAL_len_train + PNEUMONIA_len_train)\n",
        "print(\"jumlah dataset validasi : \", NORMAL_len_val + PNEUMONIA_len_val)\n",
        "print(\"\\n\\n\")\n",
        "print(\"jumlah train kelas NORMAL : \", NORMAL_len_train)\n",
        "print(\"jumlah train kelas PNEUMONIA : \", PNEUMONIA_len_train)\n",
        "print(\"jumlah validasi kelas NORMAL : \", NORMAL_len_val)\n",
        "print(\"jumlah validasi kelas PNEUMONIA : \", PNEUMONIA_len_val)"
      ],
      "metadata": {
        "colab": {
          "base_uri": "https://localhost:8080/"
        },
        "id": "p2_4o7Ye5SW3",
        "outputId": "78e2086a-0f7a-49f8-be52-31c2a3a3cf75"
      },
      "execution_count": 6,
      "outputs": [
        {
          "output_type": "stream",
          "name": "stdout",
          "text": [
            "jumlah dataset Training :  148\n",
            "jumlah dataset validasi :  40\n",
            "\n",
            "\n",
            "\n",
            "jumlah train kelas NORMAL :  74\n",
            "jumlah train kelas PNEUMONIA :  74\n",
            "jumlah validasi kelas NORMAL :  20\n",
            "jumlah validasi kelas PNEUMONIA :  20\n"
          ]
        }
      ]
    },
    {
      "cell_type": "code",
      "source": [
        "import tensorflow as tf\n",
        "from tensorflow.keras.optimizers import Adam\n",
        "from tensorflow.keras.preprocessing.image import ImageDataGenerator\n"
      ],
      "metadata": {
        "id": "5DqWjldq5VUR"
      },
      "execution_count": 7,
      "outputs": []
    },
    {
      "cell_type": "code",
      "source": [
        "train_datagen = ImageDataGenerator(\n",
        "      rescale=1./255,\n",
        "      rotation_range=40,\n",
        "      width_shift_range=0.2,\n",
        "      height_shift_range=0.2,\n",
        "      shear_range=0.2,\n",
        "      zoom_range=0.2,\n",
        "      horizontal_flip=True,\n",
        "      fill_mode='nearest')\n",
        "\n",
        "test_datagen = ImageDataGenerator(rescale=1./255)\n",
        "\n",
        "train_generator = train_datagen.flow_from_directory(\n",
        "        train_dir,\n",
        "        target_size=(224, 224),\n",
        "        batch_size=20,\n",
        "        class_mode='binary')\n",
        "\n",
        "validation_generator = test_datagen.flow_from_directory(\n",
        "        val_dir,\n",
        "        target_size=(224, 224),\n",
        "        batch_size=20,\n",
        "        class_mode='binary')\n"
      ],
      "metadata": {
        "colab": {
          "base_uri": "https://localhost:8080/"
        },
        "id": "5MhWQtSy5Yo3",
        "outputId": "bd3f2b12-6bf6-466a-9b30-70eedb314846"
      },
      "execution_count": 8,
      "outputs": [
        {
          "output_type": "stream",
          "name": "stdout",
          "text": [
            "Found 148 images belonging to 2 classes.\n",
            "Found 40 images belonging to 2 classes.\n"
          ]
        }
      ]
    },
    {
      "cell_type": "code",
      "source": [
        "'''\n",
        "Import Library yang dibutuhkan\n",
        "'''\n",
        "\n",
        "from tensorflow.keras.models import Sequential\n",
        "from tensorflow.keras.layers import InputLayer, Dense, Flatten,Dropout, BatchNormalization\n",
        "import tensorflow as tf\n",
        "from tensorflow.keras.models import Model\n",
        "from tensorflow.keras.optimizers import Adam\n",
        "from tensorflow.keras.callbacks import EarlyStopping, ModelCheckpoint"
      ],
      "metadata": {
        "id": "mfbkjYS25bHj"
      },
      "execution_count": 9,
      "outputs": []
    },
    {
      "cell_type": "code",
      "source": [
        "'''\n",
        "definisikan dan setting callback untuk :\n",
        "1. memantau performa model\n",
        "2. melakukan save model terbaik menggunakan model checkpoint\n",
        "3. memberhentikan pelatihan ketika tidak memnuhi syarat dalam parameter earlystopping\n",
        "'''\n",
        "\n",
        "callbacks = EarlyStopping(monitor='val_loss', patience=15, verbose=1, mode='auto')        \n",
        "directory_to_save_best_model_file = '/content/gdrive/MyDrive/Colab Notebooks/TugasBesar/model_drop_batch_weight_from_callback_2.h5'\n",
        "best_model = ModelCheckpoint(directory_to_save_best_model_file, monitor='val_accuracy', verbose = 1, save_best_only = True)"
      ],
      "metadata": {
        "id": "0ovy44gN5eTu"
      },
      "execution_count": 10,
      "outputs": []
    },
    {
      "cell_type": "code",
      "source": [
        "'''\n",
        "definisikan pretrained model yang ingin digunakan\n",
        "'''\n",
        "\n",
        "VGG16_base = tf.keras.applications.VGG16(include_top=False, weights='imagenet', #include_top = false , berarti fully connected layer akan dipidah dari arsitektur\n",
        "                                                 input_tensor=None, input_shape=(224, 224,3))"
      ],
      "metadata": {
        "colab": {
          "base_uri": "https://localhost:8080/"
        },
        "id": "3Xb9Iq405gdT",
        "outputId": "01d5065e-2563-494e-cf7b-0190b6b30efc"
      },
      "execution_count": 11,
      "outputs": [
        {
          "output_type": "stream",
          "name": "stdout",
          "text": [
            "Downloading data from https://storage.googleapis.com/tensorflow/keras-applications/vgg16/vgg16_weights_tf_dim_ordering_tf_kernels_notop.h5\n",
            "58889256/58889256 [==============================] - 0s 0us/step\n"
          ]
        }
      ]
    },
    {
      "cell_type": "code",
      "source": [
        "'''\n",
        "melakukan setting bahwa model pretrained tidak akan dilatih ulang\n",
        "'''\n",
        "\n",
        "VGG16_base.trainable = False"
      ],
      "metadata": {
        "id": "-vnjkDVR5jse"
      },
      "execution_count": 12,
      "outputs": []
    },
    {
      "cell_type": "code",
      "source": [
        "'''\n",
        "mendefinisikan layer pada bagian fully connected layer\n",
        "'''\n",
        "\n",
        "print('Adding new layers')\n",
        "output = VGG16_base.get_layer(index = -1).output  \n",
        "output = Flatten()(output)\n",
        "output = Dense(256,activation = \"relu\")(output)\n",
        "output = BatchNormalization()(output)\n",
        "output = Dropout(0.5)(output)\n",
        "output = Dense(256,activation = \"relu\")(output)\n",
        "output = BatchNormalization()(output)\n",
        "output = Dropout(0.5)(output)\n",
        "output = Dense(1, activation='sigmoid')(output) \n",
        "print('New layers Finishing Added!!!!')"
      ],
      "metadata": {
        "colab": {
          "base_uri": "https://localhost:8080/"
        },
        "id": "P1tLdKPe5lmd",
        "outputId": "5ef87bed-da5b-4990-fb31-166c4b16481c"
      },
      "execution_count": 13,
      "outputs": [
        {
          "output_type": "stream",
          "name": "stdout",
          "text": [
            "Adding new layers\n",
            "New layers Finishing Added!!!!\n"
          ]
        }
      ]
    },
    {
      "cell_type": "code",
      "source": [
        "VGG16_model = Model(VGG16_base.input, output)\n",
        "\n",
        "VGG16_model.summary()"
      ],
      "metadata": {
        "colab": {
          "base_uri": "https://localhost:8080/"
        },
        "id": "E--HwtQQ5nx7",
        "outputId": "55c02875-d3fb-4e08-d22a-51d6763c8a25"
      },
      "execution_count": 14,
      "outputs": [
        {
          "output_type": "stream",
          "name": "stdout",
          "text": [
            "Model: \"model\"\n",
            "_________________________________________________________________\n",
            " Layer (type)                Output Shape              Param #   \n",
            "=================================================================\n",
            " input_1 (InputLayer)        [(None, 224, 224, 3)]     0         \n",
            "                                                                 \n",
            " block1_conv1 (Conv2D)       (None, 224, 224, 64)      1792      \n",
            "                                                                 \n",
            " block1_conv2 (Conv2D)       (None, 224, 224, 64)      36928     \n",
            "                                                                 \n",
            " block1_pool (MaxPooling2D)  (None, 112, 112, 64)      0         \n",
            "                                                                 \n",
            " block2_conv1 (Conv2D)       (None, 112, 112, 128)     73856     \n",
            "                                                                 \n",
            " block2_conv2 (Conv2D)       (None, 112, 112, 128)     147584    \n",
            "                                                                 \n",
            " block2_pool (MaxPooling2D)  (None, 56, 56, 128)       0         \n",
            "                                                                 \n",
            " block3_conv1 (Conv2D)       (None, 56, 56, 256)       295168    \n",
            "                                                                 \n",
            " block3_conv2 (Conv2D)       (None, 56, 56, 256)       590080    \n",
            "                                                                 \n",
            " block3_conv3 (Conv2D)       (None, 56, 56, 256)       590080    \n",
            "                                                                 \n",
            " block3_pool (MaxPooling2D)  (None, 28, 28, 256)       0         \n",
            "                                                                 \n",
            " block4_conv1 (Conv2D)       (None, 28, 28, 512)       1180160   \n",
            "                                                                 \n",
            " block4_conv2 (Conv2D)       (None, 28, 28, 512)       2359808   \n",
            "                                                                 \n",
            " block4_conv3 (Conv2D)       (None, 28, 28, 512)       2359808   \n",
            "                                                                 \n",
            " block4_pool (MaxPooling2D)  (None, 14, 14, 512)       0         \n",
            "                                                                 \n",
            " block5_conv1 (Conv2D)       (None, 14, 14, 512)       2359808   \n",
            "                                                                 \n",
            " block5_conv2 (Conv2D)       (None, 14, 14, 512)       2359808   \n",
            "                                                                 \n",
            " block5_conv3 (Conv2D)       (None, 14, 14, 512)       2359808   \n",
            "                                                                 \n",
            " block5_pool (MaxPooling2D)  (None, 7, 7, 512)         0         \n",
            "                                                                 \n",
            " flatten (Flatten)           (None, 25088)             0         \n",
            "                                                                 \n",
            " dense (Dense)               (None, 256)               6422784   \n",
            "                                                                 \n",
            " batch_normalization (BatchN  (None, 256)              1024      \n",
            " ormalization)                                                   \n",
            "                                                                 \n",
            " dropout (Dropout)           (None, 256)               0         \n",
            "                                                                 \n",
            " dense_1 (Dense)             (None, 256)               65792     \n",
            "                                                                 \n",
            " batch_normalization_1 (Batc  (None, 256)              1024      \n",
            " hNormalization)                                                 \n",
            "                                                                 \n",
            " dropout_1 (Dropout)         (None, 256)               0         \n",
            "                                                                 \n",
            " dense_2 (Dense)             (None, 1)                 257       \n",
            "                                                                 \n",
            "=================================================================\n",
            "Total params: 21,205,569\n",
            "Trainable params: 6,489,857\n",
            "Non-trainable params: 14,715,712\n",
            "_________________________________________________________________\n"
          ]
        }
      ]
    },
    {
      "cell_type": "code",
      "source": [
        "VGG16_model.compile(optimizer=tf.keras.optimizers.Adam(learning_rate=0.0001), loss='binary_crossentropy', \n",
        "                        metrics =['accuracy'])"
      ],
      "metadata": {
        "id": "8Wm1v_TJ5rOZ"
      },
      "execution_count": 15,
      "outputs": []
    },
    {
      "cell_type": "code",
      "source": [
        "history = VGG16_model.fit(\n",
        "      train_generator,\n",
        "      steps_per_epoch=7,  # images = batch_size * steps\n",
        "      epochs=100,\n",
        "      validation_data=validation_generator,\n",
        "      validation_steps=2,  #  images = batch_size * steps\n",
        "      callbacks = [callbacks, best_model])"
      ],
      "metadata": {
        "colab": {
          "base_uri": "https://localhost:8080/"
        },
        "id": "zaNttJS_5uZd",
        "outputId": "b1ef77db-68c2-4694-e659-85c2557789e5"
      },
      "execution_count": 16,
      "outputs": [
        {
          "output_type": "stream",
          "name": "stdout",
          "text": [
            "Epoch 1/100\n",
            "7/7 [==============================] - ETA: 0s - loss: 0.7471 - accuracy: 0.6641 \n",
            "Epoch 1: val_accuracy improved from -inf to 0.50000, saving model to /content/gdrive/MyDrive/Colab Notebooks/TugasBesar/model_drop_batch_weight_from_callback_2.h5\n",
            "7/7 [==============================] - 101s 16s/step - loss: 0.7471 - accuracy: 0.6641 - val_loss: 0.8951 - val_accuracy: 0.5000\n",
            "Epoch 2/100\n",
            "7/7 [==============================] - ETA: 0s - loss: 0.4815 - accuracy: 0.8125 \n",
            "Epoch 2: val_accuracy did not improve from 0.50000\n",
            "7/7 [==============================] - 94s 15s/step - loss: 0.4815 - accuracy: 0.8125 - val_loss: 0.8117 - val_accuracy: 0.5000\n",
            "Epoch 3/100\n",
            "7/7 [==============================] - ETA: 0s - loss: 0.3326 - accuracy: 0.8429 \n",
            "Epoch 3: val_accuracy did not improve from 0.50000\n",
            "7/7 [==============================] - 101s 15s/step - loss: 0.3326 - accuracy: 0.8429 - val_loss: 0.6759 - val_accuracy: 0.5000\n",
            "Epoch 4/100\n",
            "7/7 [==============================] - ETA: 0s - loss: 0.4836 - accuracy: 0.8281\n",
            "Epoch 4: val_accuracy improved from 0.50000 to 0.62500, saving model to /content/gdrive/MyDrive/Colab Notebooks/TugasBesar/model_drop_batch_weight_from_callback_2.h5\n",
            "7/7 [==============================] - 97s 14s/step - loss: 0.4836 - accuracy: 0.8281 - val_loss: 0.5338 - val_accuracy: 0.6250\n",
            "Epoch 5/100\n",
            "7/7 [==============================] - ETA: 0s - loss: 0.3642 - accuracy: 0.8594 \n",
            "Epoch 5: val_accuracy improved from 0.62500 to 0.85000, saving model to /content/gdrive/MyDrive/Colab Notebooks/TugasBesar/model_drop_batch_weight_from_callback_2.h5\n",
            "7/7 [==============================] - 95s 14s/step - loss: 0.3642 - accuracy: 0.8594 - val_loss: 0.4299 - val_accuracy: 0.8500\n",
            "Epoch 6/100\n",
            "7/7 [==============================] - ETA: 0s - loss: 0.3026 - accuracy: 0.8828\n",
            "Epoch 6: val_accuracy improved from 0.85000 to 0.87500, saving model to /content/gdrive/MyDrive/Colab Notebooks/TugasBesar/model_drop_batch_weight_from_callback_2.h5\n",
            "7/7 [==============================] - 95s 14s/step - loss: 0.3026 - accuracy: 0.8828 - val_loss: 0.3708 - val_accuracy: 0.8750\n",
            "Epoch 7/100\n",
            "7/7 [==============================] - ETA: 0s - loss: 0.2030 - accuracy: 0.9141\n",
            "Epoch 7: val_accuracy improved from 0.87500 to 0.90000, saving model to /content/gdrive/MyDrive/Colab Notebooks/TugasBesar/model_drop_batch_weight_from_callback_2.h5\n",
            "7/7 [==============================] - 94s 14s/step - loss: 0.2030 - accuracy: 0.9141 - val_loss: 0.3225 - val_accuracy: 0.9000\n",
            "Epoch 8/100\n",
            "7/7 [==============================] - ETA: 0s - loss: 0.2529 - accuracy: 0.8984\n",
            "Epoch 8: val_accuracy did not improve from 0.90000\n",
            "7/7 [==============================] - 94s 14s/step - loss: 0.2529 - accuracy: 0.8984 - val_loss: 0.2866 - val_accuracy: 0.9000\n",
            "Epoch 9/100\n",
            "7/7 [==============================] - ETA: 0s - loss: 0.2245 - accuracy: 0.8929 \n",
            "Epoch 9: val_accuracy did not improve from 0.90000\n",
            "7/7 [==============================] - 100s 15s/step - loss: 0.2245 - accuracy: 0.8929 - val_loss: 0.2725 - val_accuracy: 0.9000\n",
            "Epoch 10/100\n",
            "7/7 [==============================] - ETA: 0s - loss: 0.2341 - accuracy: 0.8906\n",
            "Epoch 10: val_accuracy did not improve from 0.90000\n",
            "7/7 [==============================] - 95s 14s/step - loss: 0.2341 - accuracy: 0.8906 - val_loss: 0.2598 - val_accuracy: 0.9000\n",
            "Epoch 11/100\n",
            "7/7 [==============================] - ETA: 0s - loss: 0.2435 - accuracy: 0.9297\n",
            "Epoch 11: val_accuracy improved from 0.90000 to 0.95000, saving model to /content/gdrive/MyDrive/Colab Notebooks/TugasBesar/model_drop_batch_weight_from_callback_2.h5\n",
            "7/7 [==============================] - 95s 14s/step - loss: 0.2435 - accuracy: 0.9297 - val_loss: 0.2288 - val_accuracy: 0.9500\n",
            "Epoch 12/100\n",
            "7/7 [==============================] - ETA: 0s - loss: 0.1785 - accuracy: 0.9375\n",
            "Epoch 12: val_accuracy improved from 0.95000 to 0.97500, saving model to /content/gdrive/MyDrive/Colab Notebooks/TugasBesar/model_drop_batch_weight_from_callback_2.h5\n",
            "7/7 [==============================] - 95s 14s/step - loss: 0.1785 - accuracy: 0.9375 - val_loss: 0.2016 - val_accuracy: 0.9750\n",
            "Epoch 13/100\n",
            "7/7 [==============================] - ETA: 0s - loss: 0.1831 - accuracy: 0.9297\n",
            "Epoch 13: val_accuracy did not improve from 0.97500\n",
            "7/7 [==============================] - 94s 14s/step - loss: 0.1831 - accuracy: 0.9297 - val_loss: 0.1800 - val_accuracy: 0.9750\n",
            "Epoch 14/100\n",
            "7/7 [==============================] - ETA: 0s - loss: 0.2261 - accuracy: 0.9375 \n",
            "Epoch 14: val_accuracy did not improve from 0.97500\n",
            "7/7 [==============================] - 94s 14s/step - loss: 0.2261 - accuracy: 0.9375 - val_loss: 0.1708 - val_accuracy: 0.9500\n",
            "Epoch 15/100\n",
            "7/7 [==============================] - ETA: 0s - loss: 0.1765 - accuracy: 0.9141\n",
            "Epoch 15: val_accuracy did not improve from 0.97500\n",
            "7/7 [==============================] - 94s 14s/step - loss: 0.1765 - accuracy: 0.9141 - val_loss: 0.1582 - val_accuracy: 0.9750\n",
            "Epoch 16/100\n",
            "7/7 [==============================] - ETA: 0s - loss: 0.1891 - accuracy: 0.9219\n",
            "Epoch 16: val_accuracy did not improve from 0.97500\n",
            "7/7 [==============================] - 94s 14s/step - loss: 0.1891 - accuracy: 0.9219 - val_loss: 0.1491 - val_accuracy: 0.9750\n",
            "Epoch 17/100\n",
            "7/7 [==============================] - ETA: 0s - loss: 0.1932 - accuracy: 0.9062 \n",
            "Epoch 17: val_accuracy did not improve from 0.97500\n",
            "7/7 [==============================] - 94s 14s/step - loss: 0.1932 - accuracy: 0.9062 - val_loss: 0.1398 - val_accuracy: 0.9750\n",
            "Epoch 18/100\n",
            "7/7 [==============================] - ETA: 0s - loss: 0.2190 - accuracy: 0.9062 \n",
            "Epoch 18: val_accuracy did not improve from 0.97500\n",
            "7/7 [==============================] - 94s 15s/step - loss: 0.2190 - accuracy: 0.9062 - val_loss: 0.1378 - val_accuracy: 0.9500\n",
            "Epoch 19/100\n",
            "7/7 [==============================] - ETA: 0s - loss: 0.1548 - accuracy: 0.9453\n",
            "Epoch 19: val_accuracy did not improve from 0.97500\n",
            "7/7 [==============================] - 94s 14s/step - loss: 0.1548 - accuracy: 0.9453 - val_loss: 0.1544 - val_accuracy: 0.9000\n",
            "Epoch 20/100\n",
            "7/7 [==============================] - ETA: 0s - loss: 0.1407 - accuracy: 0.9357 \n",
            "Epoch 20: val_accuracy did not improve from 0.97500\n",
            "7/7 [==============================] - 101s 15s/step - loss: 0.1407 - accuracy: 0.9357 - val_loss: 0.1532 - val_accuracy: 0.9250\n",
            "Epoch 21/100\n",
            "7/7 [==============================] - ETA: 0s - loss: 0.1766 - accuracy: 0.9375\n",
            "Epoch 21: val_accuracy did not improve from 0.97500\n",
            "7/7 [==============================] - 95s 14s/step - loss: 0.1766 - accuracy: 0.9375 - val_loss: 0.1468 - val_accuracy: 0.9250\n",
            "Epoch 22/100\n",
            "7/7 [==============================] - ETA: 0s - loss: 0.1545 - accuracy: 0.9141\n",
            "Epoch 22: val_accuracy did not improve from 0.97500\n",
            "7/7 [==============================] - 94s 14s/step - loss: 0.1545 - accuracy: 0.9141 - val_loss: 0.1298 - val_accuracy: 0.9500\n",
            "Epoch 23/100\n",
            "7/7 [==============================] - ETA: 0s - loss: 0.1616 - accuracy: 0.9219 \n",
            "Epoch 23: val_accuracy did not improve from 0.97500\n",
            "7/7 [==============================] - 94s 14s/step - loss: 0.1616 - accuracy: 0.9219 - val_loss: 0.1215 - val_accuracy: 0.9500\n",
            "Epoch 24/100\n",
            "7/7 [==============================] - ETA: 0s - loss: 0.2082 - accuracy: 0.8906\n",
            "Epoch 24: val_accuracy did not improve from 0.97500\n",
            "7/7 [==============================] - 94s 14s/step - loss: 0.2082 - accuracy: 0.8906 - val_loss: 0.1255 - val_accuracy: 0.9500\n",
            "Epoch 25/100\n",
            "7/7 [==============================] - ETA: 0s - loss: 0.2345 - accuracy: 0.9219 \n",
            "Epoch 25: val_accuracy did not improve from 0.97500\n",
            "7/7 [==============================] - 95s 14s/step - loss: 0.2345 - accuracy: 0.9219 - val_loss: 0.1164 - val_accuracy: 0.9500\n",
            "Epoch 26/100\n",
            "7/7 [==============================] - ETA: 0s - loss: 0.1909 - accuracy: 0.8984 \n",
            "Epoch 26: val_accuracy did not improve from 0.97500\n",
            "7/7 [==============================] - 95s 14s/step - loss: 0.1909 - accuracy: 0.8984 - val_loss: 0.1082 - val_accuracy: 0.9500\n",
            "Epoch 27/100\n",
            "7/7 [==============================] - ETA: 0s - loss: 0.1617 - accuracy: 0.9297\n",
            "Epoch 27: val_accuracy did not improve from 0.97500\n",
            "7/7 [==============================] - 94s 14s/step - loss: 0.1617 - accuracy: 0.9297 - val_loss: 0.1143 - val_accuracy: 0.9500\n",
            "Epoch 28/100\n",
            "7/7 [==============================] - ETA: 0s - loss: 0.1703 - accuracy: 0.9214 \n",
            "Epoch 28: val_accuracy did not improve from 0.97500\n",
            "7/7 [==============================] - 100s 15s/step - loss: 0.1703 - accuracy: 0.9214 - val_loss: 0.1112 - val_accuracy: 0.9500\n",
            "Epoch 29/100\n",
            "7/7 [==============================] - ETA: 0s - loss: 0.2021 - accuracy: 0.8984 \n",
            "Epoch 29: val_accuracy did not improve from 0.97500\n",
            "7/7 [==============================] - 94s 15s/step - loss: 0.2021 - accuracy: 0.8984 - val_loss: 0.1208 - val_accuracy: 0.9500\n",
            "Epoch 30/100\n",
            "7/7 [==============================] - ETA: 0s - loss: 0.1662 - accuracy: 0.9429 \n",
            "Epoch 30: val_accuracy did not improve from 0.97500\n",
            "7/7 [==============================] - 100s 15s/step - loss: 0.1662 - accuracy: 0.9429 - val_loss: 0.1142 - val_accuracy: 0.9500\n",
            "Epoch 31/100\n",
            "7/7 [==============================] - ETA: 0s - loss: 0.1135 - accuracy: 0.9375\n",
            "Epoch 31: val_accuracy did not improve from 0.97500\n",
            "7/7 [==============================] - 94s 14s/step - loss: 0.1135 - accuracy: 0.9375 - val_loss: 0.1121 - val_accuracy: 0.9500\n",
            "Epoch 32/100\n",
            "7/7 [==============================] - ETA: 0s - loss: 0.0997 - accuracy: 0.9609\n",
            "Epoch 32: val_accuracy did not improve from 0.97500\n",
            "7/7 [==============================] - 94s 14s/step - loss: 0.0997 - accuracy: 0.9609 - val_loss: 0.1113 - val_accuracy: 0.9500\n",
            "Epoch 33/100\n",
            "7/7 [==============================] - ETA: 0s - loss: 0.1183 - accuracy: 0.9688\n",
            "Epoch 33: val_accuracy did not improve from 0.97500\n",
            "7/7 [==============================] - 94s 14s/step - loss: 0.1183 - accuracy: 0.9688 - val_loss: 0.1125 - val_accuracy: 0.9500\n",
            "Epoch 34/100\n",
            "7/7 [==============================] - ETA: 0s - loss: 0.1267 - accuracy: 0.9453\n",
            "Epoch 34: val_accuracy did not improve from 0.97500\n",
            "7/7 [==============================] - 94s 14s/step - loss: 0.1267 - accuracy: 0.9453 - val_loss: 0.1319 - val_accuracy: 0.9500\n",
            "Epoch 35/100\n",
            "7/7 [==============================] - ETA: 0s - loss: 0.1358 - accuracy: 0.9375\n",
            "Epoch 35: val_accuracy did not improve from 0.97500\n",
            "7/7 [==============================] - 94s 14s/step - loss: 0.1358 - accuracy: 0.9375 - val_loss: 0.1598 - val_accuracy: 0.9500\n",
            "Epoch 36/100\n",
            "7/7 [==============================] - ETA: 0s - loss: 0.1296 - accuracy: 0.9531 \n",
            "Epoch 36: val_accuracy did not improve from 0.97500\n",
            "7/7 [==============================] - 94s 14s/step - loss: 0.1296 - accuracy: 0.9531 - val_loss: 0.1718 - val_accuracy: 0.9500\n",
            "Epoch 37/100\n",
            "7/7 [==============================] - ETA: 0s - loss: 0.1324 - accuracy: 0.9375 \n",
            "Epoch 37: val_accuracy did not improve from 0.97500\n",
            "7/7 [==============================] - 94s 14s/step - loss: 0.1324 - accuracy: 0.9375 - val_loss: 0.1651 - val_accuracy: 0.9500\n",
            "Epoch 38/100\n",
            "7/7 [==============================] - ETA: 0s - loss: 0.1782 - accuracy: 0.9297\n",
            "Epoch 38: val_accuracy did not improve from 0.97500\n",
            "7/7 [==============================] - 94s 14s/step - loss: 0.1782 - accuracy: 0.9297 - val_loss: 0.1426 - val_accuracy: 0.9500\n",
            "Epoch 39/100\n",
            "7/7 [==============================] - ETA: 0s - loss: 0.1501 - accuracy: 0.9571 \n",
            "Epoch 39: val_accuracy did not improve from 0.97500\n",
            "7/7 [==============================] - 101s 15s/step - loss: 0.1501 - accuracy: 0.9571 - val_loss: 0.1091 - val_accuracy: 0.9500\n",
            "Epoch 40/100\n",
            "7/7 [==============================] - ETA: 0s - loss: 0.0903 - accuracy: 0.9609\n",
            "Epoch 40: val_accuracy did not improve from 0.97500\n",
            "7/7 [==============================] - 94s 14s/step - loss: 0.0903 - accuracy: 0.9609 - val_loss: 0.0906 - val_accuracy: 0.9500\n",
            "Epoch 41/100\n",
            "7/7 [==============================] - ETA: 0s - loss: 0.0867 - accuracy: 0.9609\n",
            "Epoch 41: val_accuracy did not improve from 0.97500\n",
            "7/7 [==============================] - 95s 14s/step - loss: 0.0867 - accuracy: 0.9609 - val_loss: 0.0889 - val_accuracy: 0.9500\n",
            "Epoch 42/100\n",
            "7/7 [==============================] - ETA: 0s - loss: 0.1631 - accuracy: 0.9531 \n",
            "Epoch 42: val_accuracy did not improve from 0.97500\n",
            "7/7 [==============================] - 96s 15s/step - loss: 0.1631 - accuracy: 0.9531 - val_loss: 0.0941 - val_accuracy: 0.9500\n",
            "Epoch 43/100\n",
            "7/7 [==============================] - ETA: 0s - loss: 0.1565 - accuracy: 0.9297 \n",
            "Epoch 43: val_accuracy did not improve from 0.97500\n",
            "7/7 [==============================] - 94s 15s/step - loss: 0.1565 - accuracy: 0.9297 - val_loss: 0.1241 - val_accuracy: 0.9500\n",
            "Epoch 44/100\n",
            "7/7 [==============================] - ETA: 0s - loss: 0.0843 - accuracy: 0.9609\n",
            "Epoch 44: val_accuracy did not improve from 0.97500\n",
            "7/7 [==============================] - 94s 14s/step - loss: 0.0843 - accuracy: 0.9609 - val_loss: 0.1132 - val_accuracy: 0.9500\n",
            "Epoch 45/100\n",
            "7/7 [==============================] - ETA: 0s - loss: 0.2743 - accuracy: 0.8984\n",
            "Epoch 45: val_accuracy did not improve from 0.97500\n",
            "7/7 [==============================] - 95s 14s/step - loss: 0.2743 - accuracy: 0.8984 - val_loss: 0.0960 - val_accuracy: 0.9500\n",
            "Epoch 46/100\n",
            "7/7 [==============================] - ETA: 0s - loss: 0.1076 - accuracy: 0.9609\n",
            "Epoch 46: val_accuracy did not improve from 0.97500\n",
            "7/7 [==============================] - 95s 14s/step - loss: 0.1076 - accuracy: 0.9609 - val_loss: 0.0901 - val_accuracy: 0.9500\n",
            "Epoch 47/100\n",
            "7/7 [==============================] - ETA: 0s - loss: 0.1625 - accuracy: 0.9219\n",
            "Epoch 47: val_accuracy did not improve from 0.97500\n",
            "7/7 [==============================] - 94s 14s/step - loss: 0.1625 - accuracy: 0.9219 - val_loss: 0.0796 - val_accuracy: 0.9500\n",
            "Epoch 48/100\n",
            "7/7 [==============================] - ETA: 0s - loss: 0.1059 - accuracy: 0.9609 \n",
            "Epoch 48: val_accuracy did not improve from 0.97500\n",
            "7/7 [==============================] - 94s 15s/step - loss: 0.1059 - accuracy: 0.9609 - val_loss: 0.0605 - val_accuracy: 0.9750\n",
            "Epoch 49/100\n",
            "7/7 [==============================] - ETA: 0s - loss: 0.0985 - accuracy: 0.9531\n",
            "Epoch 49: val_accuracy did not improve from 0.97500\n",
            "7/7 [==============================] - 94s 14s/step - loss: 0.0985 - accuracy: 0.9531 - val_loss: 0.0541 - val_accuracy: 0.9750\n",
            "Epoch 50/100\n",
            "7/7 [==============================] - ETA: 0s - loss: 0.1008 - accuracy: 0.9609\n",
            "Epoch 50: val_accuracy did not improve from 0.97500\n",
            "7/7 [==============================] - 94s 14s/step - loss: 0.1008 - accuracy: 0.9609 - val_loss: 0.0533 - val_accuracy: 0.9750\n",
            "Epoch 51/100\n",
            "7/7 [==============================] - ETA: 0s - loss: 0.1134 - accuracy: 0.9453\n",
            "Epoch 51: val_accuracy did not improve from 0.97500\n",
            "7/7 [==============================] - 94s 14s/step - loss: 0.1134 - accuracy: 0.9453 - val_loss: 0.0547 - val_accuracy: 0.9750\n",
            "Epoch 52/100\n",
            "7/7 [==============================] - ETA: 0s - loss: 0.0845 - accuracy: 0.9688\n",
            "Epoch 52: val_accuracy did not improve from 0.97500\n",
            "7/7 [==============================] - 94s 14s/step - loss: 0.0845 - accuracy: 0.9688 - val_loss: 0.0573 - val_accuracy: 0.9750\n",
            "Epoch 53/100\n",
            "7/7 [==============================] - ETA: 0s - loss: 0.0824 - accuracy: 0.9766\n",
            "Epoch 53: val_accuracy did not improve from 0.97500\n",
            "7/7 [==============================] - 94s 14s/step - loss: 0.0824 - accuracy: 0.9766 - val_loss: 0.0593 - val_accuracy: 0.9750\n",
            "Epoch 54/100\n",
            "7/7 [==============================] - ETA: 0s - loss: 0.1367 - accuracy: 0.9609\n",
            "Epoch 54: val_accuracy improved from 0.97500 to 1.00000, saving model to /content/gdrive/MyDrive/Colab Notebooks/TugasBesar/model_drop_batch_weight_from_callback_2.h5\n",
            "7/7 [==============================] - 95s 14s/step - loss: 0.1367 - accuracy: 0.9609 - val_loss: 0.0498 - val_accuracy: 1.0000\n",
            "Epoch 55/100\n",
            "7/7 [==============================] - ETA: 0s - loss: 0.1171 - accuracy: 0.9297 \n",
            "Epoch 55: val_accuracy did not improve from 1.00000\n",
            "7/7 [==============================] - 94s 14s/step - loss: 0.1171 - accuracy: 0.9297 - val_loss: 0.0503 - val_accuracy: 1.0000\n",
            "Epoch 56/100\n",
            "7/7 [==============================] - ETA: 0s - loss: 0.0655 - accuracy: 0.9844\n",
            "Epoch 56: val_accuracy did not improve from 1.00000\n",
            "7/7 [==============================] - 95s 14s/step - loss: 0.0655 - accuracy: 0.9844 - val_loss: 0.0610 - val_accuracy: 0.9750\n",
            "Epoch 57/100\n",
            "7/7 [==============================] - ETA: 0s - loss: 0.1864 - accuracy: 0.9375\n",
            "Epoch 57: val_accuracy did not improve from 1.00000\n",
            "7/7 [==============================] - 95s 14s/step - loss: 0.1864 - accuracy: 0.9375 - val_loss: 0.0710 - val_accuracy: 0.9750\n",
            "Epoch 58/100\n",
            "7/7 [==============================] - ETA: 0s - loss: 0.1298 - accuracy: 0.9375 \n",
            "Epoch 58: val_accuracy did not improve from 1.00000\n",
            "7/7 [==============================] - 94s 15s/step - loss: 0.1298 - accuracy: 0.9375 - val_loss: 0.0581 - val_accuracy: 0.9750\n",
            "Epoch 59/100\n",
            "7/7 [==============================] - ETA: 0s - loss: 0.1335 - accuracy: 0.9609\n",
            "Epoch 59: val_accuracy did not improve from 1.00000\n",
            "7/7 [==============================] - 94s 14s/step - loss: 0.1335 - accuracy: 0.9609 - val_loss: 0.0441 - val_accuracy: 1.0000\n",
            "Epoch 60/100\n",
            "7/7 [==============================] - ETA: 0s - loss: 0.0983 - accuracy: 0.9688 \n",
            "Epoch 60: val_accuracy did not improve from 1.00000\n",
            "7/7 [==============================] - 94s 14s/step - loss: 0.0983 - accuracy: 0.9688 - val_loss: 0.0331 - val_accuracy: 1.0000\n",
            "Epoch 61/100\n",
            "7/7 [==============================] - ETA: 0s - loss: 0.1011 - accuracy: 0.9714 \n",
            "Epoch 61: val_accuracy did not improve from 1.00000\n",
            "7/7 [==============================] - 101s 15s/step - loss: 0.1011 - accuracy: 0.9714 - val_loss: 0.0320 - val_accuracy: 1.0000\n",
            "Epoch 62/100\n",
            "7/7 [==============================] - ETA: 0s - loss: 0.0704 - accuracy: 0.9766\n",
            "Epoch 62: val_accuracy did not improve from 1.00000\n",
            "7/7 [==============================] - 94s 14s/step - loss: 0.0704 - accuracy: 0.9766 - val_loss: 0.0354 - val_accuracy: 1.0000\n",
            "Epoch 63/100\n",
            "7/7 [==============================] - ETA: 0s - loss: 0.0756 - accuracy: 0.9609\n",
            "Epoch 63: val_accuracy did not improve from 1.00000\n",
            "7/7 [==============================] - 95s 14s/step - loss: 0.0756 - accuracy: 0.9609 - val_loss: 0.0342 - val_accuracy: 1.0000\n",
            "Epoch 64/100\n",
            "7/7 [==============================] - ETA: 0s - loss: 0.1838 - accuracy: 0.9375 \n",
            "Epoch 64: val_accuracy did not improve from 1.00000\n",
            "7/7 [==============================] - 94s 14s/step - loss: 0.1838 - accuracy: 0.9375 - val_loss: 0.0343 - val_accuracy: 1.0000\n",
            "Epoch 65/100\n",
            "7/7 [==============================] - ETA: 0s - loss: 0.0447 - accuracy: 0.9844\n",
            "Epoch 65: val_accuracy did not improve from 1.00000\n",
            "7/7 [==============================] - 94s 14s/step - loss: 0.0447 - accuracy: 0.9844 - val_loss: 0.0337 - val_accuracy: 0.9750\n",
            "Epoch 66/100\n",
            "7/7 [==============================] - ETA: 0s - loss: 0.1114 - accuracy: 0.9609 \n",
            "Epoch 66: val_accuracy did not improve from 1.00000\n",
            "7/7 [==============================] - 94s 14s/step - loss: 0.1114 - accuracy: 0.9609 - val_loss: 0.0298 - val_accuracy: 1.0000\n",
            "Epoch 67/100\n",
            "7/7 [==============================] - ETA: 0s - loss: 0.0529 - accuracy: 0.9766\n",
            "Epoch 67: val_accuracy did not improve from 1.00000\n",
            "7/7 [==============================] - 94s 14s/step - loss: 0.0529 - accuracy: 0.9766 - val_loss: 0.0280 - val_accuracy: 1.0000\n",
            "Epoch 68/100\n",
            "7/7 [==============================] - ETA: 0s - loss: 0.0817 - accuracy: 0.9688 \n",
            "Epoch 68: val_accuracy did not improve from 1.00000\n",
            "7/7 [==============================] - 97s 14s/step - loss: 0.0817 - accuracy: 0.9688 - val_loss: 0.0281 - val_accuracy: 1.0000\n",
            "Epoch 69/100\n",
            "7/7 [==============================] - ETA: 0s - loss: 0.1304 - accuracy: 0.9357 \n",
            "Epoch 69: val_accuracy did not improve from 1.00000\n",
            "7/7 [==============================] - 101s 15s/step - loss: 0.1304 - accuracy: 0.9357 - val_loss: 0.0275 - val_accuracy: 1.0000\n",
            "Epoch 70/100\n",
            "7/7 [==============================] - ETA: 0s - loss: 0.1361 - accuracy: 0.9531\n",
            "Epoch 70: val_accuracy did not improve from 1.00000\n",
            "7/7 [==============================] - 94s 14s/step - loss: 0.1361 - accuracy: 0.9531 - val_loss: 0.0270 - val_accuracy: 1.0000\n",
            "Epoch 71/100\n",
            "7/7 [==============================] - ETA: 0s - loss: 0.0907 - accuracy: 0.9453\n",
            "Epoch 71: val_accuracy did not improve from 1.00000\n",
            "7/7 [==============================] - 94s 14s/step - loss: 0.0907 - accuracy: 0.9453 - val_loss: 0.0288 - val_accuracy: 1.0000\n",
            "Epoch 72/100\n",
            "7/7 [==============================] - ETA: 0s - loss: 0.0485 - accuracy: 0.9844\n",
            "Epoch 72: val_accuracy did not improve from 1.00000\n",
            "7/7 [==============================] - 94s 14s/step - loss: 0.0485 - accuracy: 0.9844 - val_loss: 0.0295 - val_accuracy: 1.0000\n",
            "Epoch 73/100\n",
            "7/7 [==============================] - ETA: 0s - loss: 0.1146 - accuracy: 0.9688\n",
            "Epoch 73: val_accuracy did not improve from 1.00000\n",
            "7/7 [==============================] - 94s 14s/step - loss: 0.1146 - accuracy: 0.9688 - val_loss: 0.0296 - val_accuracy: 1.0000\n",
            "Epoch 74/100\n",
            "7/7 [==============================] - ETA: 0s - loss: 0.1078 - accuracy: 0.9766\n",
            "Epoch 74: val_accuracy did not improve from 1.00000\n",
            "7/7 [==============================] - 94s 14s/step - loss: 0.1078 - accuracy: 0.9766 - val_loss: 0.0367 - val_accuracy: 0.9750\n",
            "Epoch 75/100\n",
            "7/7 [==============================] - ETA: 0s - loss: 0.1171 - accuracy: 0.9453 \n",
            "Epoch 75: val_accuracy did not improve from 1.00000\n",
            "7/7 [==============================] - 94s 14s/step - loss: 0.1171 - accuracy: 0.9453 - val_loss: 0.0395 - val_accuracy: 0.9750\n",
            "Epoch 76/100\n",
            "7/7 [==============================] - ETA: 0s - loss: 0.1018 - accuracy: 0.9688\n",
            "Epoch 76: val_accuracy did not improve from 1.00000\n",
            "7/7 [==============================] - 94s 14s/step - loss: 0.1018 - accuracy: 0.9688 - val_loss: 0.0436 - val_accuracy: 0.9750\n",
            "Epoch 77/100\n",
            "7/7 [==============================] - ETA: 0s - loss: 0.1347 - accuracy: 0.9766\n",
            "Epoch 77: val_accuracy did not improve from 1.00000\n",
            "7/7 [==============================] - 94s 14s/step - loss: 0.1347 - accuracy: 0.9766 - val_loss: 0.0377 - val_accuracy: 0.9750\n",
            "Epoch 78/100\n",
            "7/7 [==============================] - ETA: 0s - loss: 0.0898 - accuracy: 0.9688\n",
            "Epoch 78: val_accuracy did not improve from 1.00000\n",
            "7/7 [==============================] - 94s 13s/step - loss: 0.0898 - accuracy: 0.9688 - val_loss: 0.0350 - val_accuracy: 0.9750\n",
            "Epoch 79/100\n",
            "7/7 [==============================] - ETA: 0s - loss: 0.0709 - accuracy: 0.9766\n",
            "Epoch 79: val_accuracy did not improve from 1.00000\n",
            "7/7 [==============================] - 94s 14s/step - loss: 0.0709 - accuracy: 0.9766 - val_loss: 0.0407 - val_accuracy: 0.9750\n",
            "Epoch 80/100\n",
            "7/7 [==============================] - ETA: 0s - loss: 0.0895 - accuracy: 0.9688 \n",
            "Epoch 80: val_accuracy did not improve from 1.00000\n",
            "7/7 [==============================] - 94s 14s/step - loss: 0.0895 - accuracy: 0.9688 - val_loss: 0.0561 - val_accuracy: 0.9500\n",
            "Epoch 81/100\n",
            "7/7 [==============================] - ETA: 0s - loss: 0.0621 - accuracy: 0.9786 \n",
            "Epoch 81: val_accuracy did not improve from 1.00000\n",
            "7/7 [==============================] - 100s 15s/step - loss: 0.0621 - accuracy: 0.9786 - val_loss: 0.0677 - val_accuracy: 0.9500\n",
            "Epoch 82/100\n",
            "7/7 [==============================] - ETA: 0s - loss: 0.0741 - accuracy: 0.9688\n",
            "Epoch 82: val_accuracy did not improve from 1.00000\n",
            "7/7 [==============================] - 94s 14s/step - loss: 0.0741 - accuracy: 0.9688 - val_loss: 0.0801 - val_accuracy: 0.9500\n",
            "Epoch 83/100\n",
            "7/7 [==============================] - ETA: 0s - loss: 0.0553 - accuracy: 0.9844\n",
            "Epoch 83: val_accuracy did not improve from 1.00000\n",
            "7/7 [==============================] - 94s 14s/step - loss: 0.0553 - accuracy: 0.9844 - val_loss: 0.0738 - val_accuracy: 0.9500\n",
            "Epoch 84/100\n",
            "7/7 [==============================] - ETA: 0s - loss: 0.1702 - accuracy: 0.9286 \n",
            "Epoch 84: val_accuracy did not improve from 1.00000\n",
            "7/7 [==============================] - 100s 15s/step - loss: 0.1702 - accuracy: 0.9286 - val_loss: 0.0880 - val_accuracy: 0.9500\n",
            "Epoch 85/100\n",
            "7/7 [==============================] - ETA: 0s - loss: 0.1489 - accuracy: 0.9453\n",
            "Epoch 85: val_accuracy did not improve from 1.00000\n",
            "7/7 [==============================] - 94s 14s/step - loss: 0.1489 - accuracy: 0.9453 - val_loss: 0.0895 - val_accuracy: 0.9500\n",
            "Epoch 85: early stopping\n"
          ]
        }
      ]
    },
    {
      "cell_type": "code",
      "source": [
        "import matplotlib.pyplot as plt\n",
        "acc = history.history['accuracy']\n",
        "val_acc = history.history['val_accuracy']\n",
        "loss = history.history['loss']\n",
        "val_loss = history.history['val_loss']\n",
        "\n",
        "epochs = range(len(acc))\n",
        "\n",
        "plt.plot(epochs, acc, 'bo', label='Training accuracy')\n",
        "plt.plot(epochs, val_acc, 'b', label='Validation accuracy')\n",
        "plt.title('Training and validation accuracy')\n",
        "\n",
        "plt.figure()\n",
        "\n",
        "plt.plot(epochs, loss, 'bo', label='Training Loss')\n",
        "plt.plot(epochs, val_loss, 'b', label='Validation Loss')\n",
        "plt.title('Training and validation loss')\n",
        "plt.legend()\n",
        "\n",
        "plt.show()"
      ],
      "metadata": {
        "id": "YlhY4XGb50O7",
        "colab": {
          "base_uri": "https://localhost:8080/",
          "height": 545
        },
        "outputId": "da6e4e14-f5cf-4e66-d2fd-98025e610063"
      },
      "execution_count": 17,
      "outputs": [
        {
          "output_type": "display_data",
          "data": {
            "text/plain": [
              "<Figure size 432x288 with 1 Axes>"
            ],
            "image/png": "[encoded data removed]"
          },
          "metadata": {
            "needs_background": "light"
          }
        },
        {
          "output_type": "display_data",
          "data": {
            "text/plain": [
              "<Figure size 432x288 with 1 Axes>"
            ],
            "image/png": "[encoded data removed]"
          },
          "metadata": {
            "needs_background": "light"
          }
        }
      ]
    },
    {
      "cell_type": "code",
      "source": [
        "# import some of library that we need to look the confusion matrix, recall, f1_score, and accuracy score to look how much your model is well\n",
        "import numpy as np \n",
        "from keras.preprocessing.image import ImageDataGenerator\n",
        "import matplotlib.pyplot as plt\n",
        "from sklearn.metrics import f1_score, recall_score, accuracy_score\n",
        "from sklearn.metrics import precision_score, confusion_matrix, classification_report\n",
        "from sklearn import metrics\n",
        "\n",
        "import seaborn as sns\n",
        "sns.set(style='whitegrid')"
      ],
      "metadata": {
        "id": "eYV1IQdD51Mu"
      },
      "execution_count": 18,
      "outputs": []
    },
    {
      "cell_type": "code",
      "source": [
        "# loading model to evaluate more depth\n",
        "from keras.models import load_model\n",
        "model_path =  '/content/gdrive/MyDrive/Colab Notebooks/TugasBesar/model_drop_batch_weight_from_callback_2.h5'\n",
        "model = load_model(model_path)"
      ],
      "metadata": {
        "id": "chWcdOGv53y6"
      },
      "execution_count": 19,
      "outputs": []
    },
    {
      "cell_type": "code",
      "source": [
        "def my_metrics(y_true, y_pred):\n",
        "    accuracy=accuracy_score(y_true, y_pred)\n",
        "    precision=precision_score(y_true, y_pred,average='weighted')\n",
        "    f1Score=f1_score(y_true, y_pred, average='weighted') \n",
        "    print(\"Accuracy  : {}\".format(accuracy))\n",
        "    print(\"Precision : {}\".format(precision))\n",
        "    print(\"f1Score : {}\".format(f1Score))\n",
        "    cm=confusion_matrix(y_true, y_pred)\n",
        "    print(cm)\n",
        "    return accuracy, precision, f1Score\n",
        "\n",
        "height=224; width=224\n",
        "batch_size=20\n",
        "\n",
        "test_datagen = ImageDataGenerator(rescale=1./255)\n",
        "\n",
        "TESTING_DIR = val_dir\n",
        "\n",
        "test_generator = test_datagen.flow_from_directory(TESTING_DIR,\n",
        "                                                  batch_size=batch_size,                                                             \n",
        "                                                  target_size=(height, width),\n",
        "                                                  class_mode= None,\n",
        "                                                  shuffle=False\n",
        "                                                  )\n",
        "\n",
        "predictions = model.predict_generator(generator=test_generator)\n",
        "yPredictions = predictions > 0.5\n",
        "true_classes = test_generator.classes\n",
        "class_names = test_generator.class_indices\n",
        "Cmatrix_test = confusion_matrix(true_classes, yPredictions)\n",
        "\n",
        "testAcc,testPrec, testFScore = my_metrics(true_classes, yPredictions)\n",
        "\n",
        "plt.figure(figsize=(20,20))\n",
        "ax= plt.subplot()\n",
        "data = np.asarray(Cmatrix_test).reshape(2,2)\n",
        "sns.heatmap(data,annot=True, fmt='',ax=ax, cmap=plt.cm.Reds)\n",
        "ax.set_xlabel('Predicted labels')\n",
        "ax.set_ylabel('True labels') \n",
        "ax.set_title('Confusion Matrix')\n",
        "ax.xaxis.set_ticklabels(class_names)   \n",
        "ax.yaxis.set_ticklabels(class_names)\n",
        "plt.title('Confusion Matrix Test',fontsize=14)\n",
        "plt.show()"
      ],
      "metadata": {
        "colab": {
          "base_uri": "https://localhost:8080/",
          "height": 1000
        },
        "id": "PUpqGGWC56Dm",
        "outputId": "a3964695-3c2d-4f7f-df16-5c3ab3a3040b"
      },
      "execution_count": 20,
      "outputs": [
        {
          "output_type": "stream",
          "name": "stdout",
          "text": [
            "Found 40 images belonging to 2 classes.\n"
          ]
        },
        {
          "output_type": "stream",
          "name": "stderr",
          "text": [
            "<ipython-input-20-331da65692ed>:26: UserWarning: `Model.predict_generator` is deprecated and will be removed in a future version. Please use `Model.predict`, which supports generators.\n",
            "  predictions = model.predict_generator(generator=test_generator)\n"
          ]
        },
        {
          "output_type": "stream",
          "name": "stdout",
          "text": [
            "Accuracy  : 1.0\n",
            "Precision : 1.0\n",
            "f1Score : 1.0\n",
            "[[20  0]\n",
            " [ 0 20]]\n"
          ]
        },
        {
          "output_type": "display_data",
          "data": {
            "text/plain": [
              "<Figure size 1440x1440 with 2 Axes>"
            ],
            "image/png": "[encoded data removed]"
          },
          "metadata": {}
        }
      ]
    },
    {
      "cell_type": "code",
      "source": [
        "from sklearn.metrics import classification_report\n",
        "print(classification_report(true_classes, yPredictions, target_names=class_names))"
      ],
      "metadata": {
        "colab": {
          "base_uri": "https://localhost:8080/"
        },
        "id": "BnHPyxyi58YQ",
        "outputId": "6c26a7e1-0e86-403f-9657-e603c53d3f76"
      },
      "execution_count": 21,
      "outputs": [
        {
          "output_type": "stream",
          "name": "stdout",
          "text": [
            "              precision    recall  f1-score   support\n",
            "\n",
            "      NORMAL       1.00      1.00      1.00        20\n",
            "   PNEUMONIA       1.00      1.00      1.00        20\n",
            "\n",
            "    accuracy                           1.00        40\n",
            "   macro avg       1.00      1.00      1.00        40\n",
            "weighted avg       1.00      1.00      1.00        40\n",
            "\n"
          ]
        }
      ]
    }
  ]
}